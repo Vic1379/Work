{
  "nbformat": 4,
  "nbformat_minor": 0,
  "metadata": {
    "colab": {
      "provenance": [],
      "gpuType": "T4"
    },
    "kernelspec": {
      "name": "python3",
      "display_name": "Python 3"
    },
    "language_info": {
      "name": "python"
    },
    "accelerator": "GPU"
  },
  "cells": [
    {
      "cell_type": "code",
      "execution_count": 1,
      "metadata": {
        "id": "fSQp5pcsabIN"
      },
      "outputs": [],
      "source": [
        "import torch as trc, numpy as np, matplotlib.pyplot as plt\n",
        "import pandas as pd\n",
        "from tqdm import tqdm\n",
        "\n",
        "from sklearn.model_selection import train_test_split\n",
        "from sklearn.metrics import r2_score"
      ]
    },
    {
      "cell_type": "code",
      "source": [
        "!unzip -q drive/MyDrive/___Work/datasets.zip"
      ],
      "metadata": {
        "id": "_CmOlHR7awJ5"
      },
      "execution_count": 2,
      "outputs": []
    },
    {
      "cell_type": "markdown",
      "source": [
        "# Data"
      ],
      "metadata": {
        "id": "cLa6GWfEjDPP"
      }
    },
    {
      "cell_type": "code",
      "source": [
        "data = pd.read_csv('dataset_1.csv')\n",
        "data"
      ],
      "metadata": {
        "colab": {
          "base_uri": "https://localhost:8080/",
          "height": 487
        },
        "id": "ezxD3YwubMTc",
        "outputId": "e0c10d1e-1da9-4add-d89f-a3e4c69a0e7d"
      },
      "execution_count": 3,
      "outputs": [
        {
          "output_type": "execute_result",
          "data": {
            "text/plain": [
              "             y   x_U_0_0   x_U_0_1   x_U_0_2   x_U_0_3   x_U_0_4   x_U_0_5  \\\n",
              "0    -4.233553  2.606032  2.552980  1.908913  1.078835 -0.146043 -0.730223   \n",
              "1    -1.011877  1.516057  1.455657  1.068938  0.519402 -0.163118 -0.690535   \n",
              "2    -3.644534  4.170677  3.900828  2.993382  1.781614  0.417552  0.179588   \n",
              "3    -1.033773  3.206544  3.120972  2.336085  1.350050  0.128297 -0.187719   \n",
              "4    -1.064305  2.847665  2.718490  2.023129  1.179891  0.174447 -0.120963   \n",
              "...        ...       ...       ...       ...       ...       ...       ...   \n",
              "2933 -3.258447  1.336375  1.068919  0.501122  0.131322 -0.090578 -0.173463   \n",
              "2934 -6.631887  0.369445  0.494371  0.333947  0.157921 -0.098280 -0.373549   \n",
              "2935 -2.681126  2.597960  2.437877  1.714293  1.048180  0.441076  0.568273   \n",
              "2936 -2.918484  1.124765  1.129623  0.889120  0.637313  0.286190 -0.176969   \n",
              "2937 -4.343793  1.180615  1.327515  0.951514  0.475464 -0.145093 -0.346582   \n",
              "\n",
              "       x_U_0_6   x_U_0_7   x_U_0_8  ...  x_Stp_5_45  x_Stp_5_46  x_Stp_5_47  \\\n",
              "0    -0.670409  0.162306  0.513844  ...    1.131698    1.103866    1.395858   \n",
              "1    -0.682136 -0.066951  0.171233  ...    0.977148    1.042969    1.068359   \n",
              "2     0.766331  2.117894  2.442454  ...    1.485596    1.545947    1.537549   \n",
              "3     0.075391  1.025074  1.239771  ...    1.601318    1.646631    1.637842   \n",
              "4     0.098275  1.061971  1.176278  ...    1.056250    1.041016    0.983594   \n",
              "...        ...       ...       ...  ...         ...         ...         ...   \n",
              "2933 -0.119020  0.265843  0.336815  ...   14.800195   15.015625   14.693555   \n",
              "2934 -0.480970 -0.313197 -0.122767  ...   13.731795   14.009302   13.868351   \n",
              "2935  0.794518  1.255993  1.264952  ...   12.326172   12.103711   11.597266   \n",
              "2936 -0.305704 -0.088028  0.140121  ...   10.565576   10.047607    9.753662   \n",
              "2937 -0.277734  0.154858  0.297485  ...    9.551221    9.254932    8.764307   \n",
              "\n",
              "      x_Stp_5_48  x_Stp_5_49  x_Stp_5_50  x_Stp_5_51  x_Stp_5_52  x_Stp_5_53  \\\n",
              "0       1.640975    1.745467    1.811222    2.014510    2.169946    2.244816   \n",
              "1       1.156836    1.266602    1.370703    1.465430    1.548438    1.627539   \n",
              "2       1.604932    1.709814    1.793213    1.851221    1.896533    2.041260   \n",
              "3       1.714990    1.833936    1.940576    2.039209    2.114014    2.224365   \n",
              "4       1.012891    1.067773    1.116406    1.159961    1.203320    1.246680   \n",
              "...          ...         ...         ...         ...         ...         ...   \n",
              "2933   14.042773   13.070508   12.446484   11.914258   11.718164   11.598633   \n",
              "2934   12.936711   11.427922   11.024764   10.806828   10.859074   10.979354   \n",
              "2935   11.329688   10.852539   10.133008    9.691992    9.519141    9.630859   \n",
              "2936    9.581592    8.840381    7.913232    7.574170    7.499561    7.673975   \n",
              "2937    8.457861    7.699072    6.517236    5.760400    5.292627    5.937354   \n",
              "\n",
              "      x_Stp_5_54  \n",
              "0       2.438664  \n",
              "1       1.814453  \n",
              "2       2.243213  \n",
              "3       2.447021  \n",
              "4       1.404492  \n",
              "...          ...  \n",
              "2933   11.828320  \n",
              "2934   11.255721  \n",
              "2935    9.863477  \n",
              "2936    8.017725  \n",
              "2937    6.349463  \n",
              "\n",
              "[2938 rows x 2311 columns]"
            ],
            "text/html": [
              "\n",
              "\n",
              "  <div id=\"df-0884cf00-063a-4e81-a865-e5b7b09b1002\">\n",
              "    <div class=\"colab-df-container\">\n",
              "      <div>\n",
              "<style scoped>\n",
              "    .dataframe tbody tr th:only-of-type {\n",
              "        vertical-align: middle;\n",
              "    }\n",
              "\n",
              "    .dataframe tbody tr th {\n",
              "        vertical-align: top;\n",
              "    }\n",
              "\n",
              "    .dataframe thead th {\n",
              "        text-align: right;\n",
              "    }\n",
              "</style>\n",
              "<table border=\"1\" class=\"dataframe\">\n",
              "  <thead>\n",
              "    <tr style=\"text-align: right;\">\n",
              "      <th></th>\n",
              "      <th>y</th>\n",
              "      <th>x_U_0_0</th>\n",
              "      <th>x_U_0_1</th>\n",
              "      <th>x_U_0_2</th>\n",
              "      <th>x_U_0_3</th>\n",
              "      <th>x_U_0_4</th>\n",
              "      <th>x_U_0_5</th>\n",
              "      <th>x_U_0_6</th>\n",
              "      <th>x_U_0_7</th>\n",
              "      <th>x_U_0_8</th>\n",
              "      <th>...</th>\n",
              "      <th>x_Stp_5_45</th>\n",
              "      <th>x_Stp_5_46</th>\n",
              "      <th>x_Stp_5_47</th>\n",
              "      <th>x_Stp_5_48</th>\n",
              "      <th>x_Stp_5_49</th>\n",
              "      <th>x_Stp_5_50</th>\n",
              "      <th>x_Stp_5_51</th>\n",
              "      <th>x_Stp_5_52</th>\n",
              "      <th>x_Stp_5_53</th>\n",
              "      <th>x_Stp_5_54</th>\n",
              "    </tr>\n",
              "  </thead>\n",
              "  <tbody>\n",
              "    <tr>\n",
              "      <th>0</th>\n",
              "      <td>-4.233553</td>\n",
              "      <td>2.606032</td>\n",
              "      <td>2.552980</td>\n",
              "      <td>1.908913</td>\n",
              "      <td>1.078835</td>\n",
              "      <td>-0.146043</td>\n",
              "      <td>-0.730223</td>\n",
              "      <td>-0.670409</td>\n",
              "      <td>0.162306</td>\n",
              "      <td>0.513844</td>\n",
              "      <td>...</td>\n",
              "      <td>1.131698</td>\n",
              "      <td>1.103866</td>\n",
              "      <td>1.395858</td>\n",
              "      <td>1.640975</td>\n",
              "      <td>1.745467</td>\n",
              "      <td>1.811222</td>\n",
              "      <td>2.014510</td>\n",
              "      <td>2.169946</td>\n",
              "      <td>2.244816</td>\n",
              "      <td>2.438664</td>\n",
              "    </tr>\n",
              "    <tr>\n",
              "      <th>1</th>\n",
              "      <td>-1.011877</td>\n",
              "      <td>1.516057</td>\n",
              "      <td>1.455657</td>\n",
              "      <td>1.068938</td>\n",
              "      <td>0.519402</td>\n",
              "      <td>-0.163118</td>\n",
              "      <td>-0.690535</td>\n",
              "      <td>-0.682136</td>\n",
              "      <td>-0.066951</td>\n",
              "      <td>0.171233</td>\n",
              "      <td>...</td>\n",
              "      <td>0.977148</td>\n",
              "      <td>1.042969</td>\n",
              "      <td>1.068359</td>\n",
              "      <td>1.156836</td>\n",
              "      <td>1.266602</td>\n",
              "      <td>1.370703</td>\n",
              "      <td>1.465430</td>\n",
              "      <td>1.548438</td>\n",
              "      <td>1.627539</td>\n",
              "      <td>1.814453</td>\n",
              "    </tr>\n",
              "    <tr>\n",
              "      <th>2</th>\n",
              "      <td>-3.644534</td>\n",
              "      <td>4.170677</td>\n",
              "      <td>3.900828</td>\n",
              "      <td>2.993382</td>\n",
              "      <td>1.781614</td>\n",
              "      <td>0.417552</td>\n",
              "      <td>0.179588</td>\n",
              "      <td>0.766331</td>\n",
              "      <td>2.117894</td>\n",
              "      <td>2.442454</td>\n",
              "      <td>...</td>\n",
              "      <td>1.485596</td>\n",
              "      <td>1.545947</td>\n",
              "      <td>1.537549</td>\n",
              "      <td>1.604932</td>\n",
              "      <td>1.709814</td>\n",
              "      <td>1.793213</td>\n",
              "      <td>1.851221</td>\n",
              "      <td>1.896533</td>\n",
              "      <td>2.041260</td>\n",
              "      <td>2.243213</td>\n",
              "    </tr>\n",
              "    <tr>\n",
              "      <th>3</th>\n",
              "      <td>-1.033773</td>\n",
              "      <td>3.206544</td>\n",
              "      <td>3.120972</td>\n",
              "      <td>2.336085</td>\n",
              "      <td>1.350050</td>\n",
              "      <td>0.128297</td>\n",
              "      <td>-0.187719</td>\n",
              "      <td>0.075391</td>\n",
              "      <td>1.025074</td>\n",
              "      <td>1.239771</td>\n",
              "      <td>...</td>\n",
              "      <td>1.601318</td>\n",
              "      <td>1.646631</td>\n",
              "      <td>1.637842</td>\n",
              "      <td>1.714990</td>\n",
              "      <td>1.833936</td>\n",
              "      <td>1.940576</td>\n",
              "      <td>2.039209</td>\n",
              "      <td>2.114014</td>\n",
              "      <td>2.224365</td>\n",
              "      <td>2.447021</td>\n",
              "    </tr>\n",
              "    <tr>\n",
              "      <th>4</th>\n",
              "      <td>-1.064305</td>\n",
              "      <td>2.847665</td>\n",
              "      <td>2.718490</td>\n",
              "      <td>2.023129</td>\n",
              "      <td>1.179891</td>\n",
              "      <td>0.174447</td>\n",
              "      <td>-0.120963</td>\n",
              "      <td>0.098275</td>\n",
              "      <td>1.061971</td>\n",
              "      <td>1.176278</td>\n",
              "      <td>...</td>\n",
              "      <td>1.056250</td>\n",
              "      <td>1.041016</td>\n",
              "      <td>0.983594</td>\n",
              "      <td>1.012891</td>\n",
              "      <td>1.067773</td>\n",
              "      <td>1.116406</td>\n",
              "      <td>1.159961</td>\n",
              "      <td>1.203320</td>\n",
              "      <td>1.246680</td>\n",
              "      <td>1.404492</td>\n",
              "    </tr>\n",
              "    <tr>\n",
              "      <th>...</th>\n",
              "      <td>...</td>\n",
              "      <td>...</td>\n",
              "      <td>...</td>\n",
              "      <td>...</td>\n",
              "      <td>...</td>\n",
              "      <td>...</td>\n",
              "      <td>...</td>\n",
              "      <td>...</td>\n",
              "      <td>...</td>\n",
              "      <td>...</td>\n",
              "      <td>...</td>\n",
              "      <td>...</td>\n",
              "      <td>...</td>\n",
              "      <td>...</td>\n",
              "      <td>...</td>\n",
              "      <td>...</td>\n",
              "      <td>...</td>\n",
              "      <td>...</td>\n",
              "      <td>...</td>\n",
              "      <td>...</td>\n",
              "      <td>...</td>\n",
              "    </tr>\n",
              "    <tr>\n",
              "      <th>2933</th>\n",
              "      <td>-3.258447</td>\n",
              "      <td>1.336375</td>\n",
              "      <td>1.068919</td>\n",
              "      <td>0.501122</td>\n",
              "      <td>0.131322</td>\n",
              "      <td>-0.090578</td>\n",
              "      <td>-0.173463</td>\n",
              "      <td>-0.119020</td>\n",
              "      <td>0.265843</td>\n",
              "      <td>0.336815</td>\n",
              "      <td>...</td>\n",
              "      <td>14.800195</td>\n",
              "      <td>15.015625</td>\n",
              "      <td>14.693555</td>\n",
              "      <td>14.042773</td>\n",
              "      <td>13.070508</td>\n",
              "      <td>12.446484</td>\n",
              "      <td>11.914258</td>\n",
              "      <td>11.718164</td>\n",
              "      <td>11.598633</td>\n",
              "      <td>11.828320</td>\n",
              "    </tr>\n",
              "    <tr>\n",
              "      <th>2934</th>\n",
              "      <td>-6.631887</td>\n",
              "      <td>0.369445</td>\n",
              "      <td>0.494371</td>\n",
              "      <td>0.333947</td>\n",
              "      <td>0.157921</td>\n",
              "      <td>-0.098280</td>\n",
              "      <td>-0.373549</td>\n",
              "      <td>-0.480970</td>\n",
              "      <td>-0.313197</td>\n",
              "      <td>-0.122767</td>\n",
              "      <td>...</td>\n",
              "      <td>13.731795</td>\n",
              "      <td>14.009302</td>\n",
              "      <td>13.868351</td>\n",
              "      <td>12.936711</td>\n",
              "      <td>11.427922</td>\n",
              "      <td>11.024764</td>\n",
              "      <td>10.806828</td>\n",
              "      <td>10.859074</td>\n",
              "      <td>10.979354</td>\n",
              "      <td>11.255721</td>\n",
              "    </tr>\n",
              "    <tr>\n",
              "      <th>2935</th>\n",
              "      <td>-2.681126</td>\n",
              "      <td>2.597960</td>\n",
              "      <td>2.437877</td>\n",
              "      <td>1.714293</td>\n",
              "      <td>1.048180</td>\n",
              "      <td>0.441076</td>\n",
              "      <td>0.568273</td>\n",
              "      <td>0.794518</td>\n",
              "      <td>1.255993</td>\n",
              "      <td>1.264952</td>\n",
              "      <td>...</td>\n",
              "      <td>12.326172</td>\n",
              "      <td>12.103711</td>\n",
              "      <td>11.597266</td>\n",
              "      <td>11.329688</td>\n",
              "      <td>10.852539</td>\n",
              "      <td>10.133008</td>\n",
              "      <td>9.691992</td>\n",
              "      <td>9.519141</td>\n",
              "      <td>9.630859</td>\n",
              "      <td>9.863477</td>\n",
              "    </tr>\n",
              "    <tr>\n",
              "      <th>2936</th>\n",
              "      <td>-2.918484</td>\n",
              "      <td>1.124765</td>\n",
              "      <td>1.129623</td>\n",
              "      <td>0.889120</td>\n",
              "      <td>0.637313</td>\n",
              "      <td>0.286190</td>\n",
              "      <td>-0.176969</td>\n",
              "      <td>-0.305704</td>\n",
              "      <td>-0.088028</td>\n",
              "      <td>0.140121</td>\n",
              "      <td>...</td>\n",
              "      <td>10.565576</td>\n",
              "      <td>10.047607</td>\n",
              "      <td>9.753662</td>\n",
              "      <td>9.581592</td>\n",
              "      <td>8.840381</td>\n",
              "      <td>7.913232</td>\n",
              "      <td>7.574170</td>\n",
              "      <td>7.499561</td>\n",
              "      <td>7.673975</td>\n",
              "      <td>8.017725</td>\n",
              "    </tr>\n",
              "    <tr>\n",
              "      <th>2937</th>\n",
              "      <td>-4.343793</td>\n",
              "      <td>1.180615</td>\n",
              "      <td>1.327515</td>\n",
              "      <td>0.951514</td>\n",
              "      <td>0.475464</td>\n",
              "      <td>-0.145093</td>\n",
              "      <td>-0.346582</td>\n",
              "      <td>-0.277734</td>\n",
              "      <td>0.154858</td>\n",
              "      <td>0.297485</td>\n",
              "      <td>...</td>\n",
              "      <td>9.551221</td>\n",
              "      <td>9.254932</td>\n",
              "      <td>8.764307</td>\n",
              "      <td>8.457861</td>\n",
              "      <td>7.699072</td>\n",
              "      <td>6.517236</td>\n",
              "      <td>5.760400</td>\n",
              "      <td>5.292627</td>\n",
              "      <td>5.937354</td>\n",
              "      <td>6.349463</td>\n",
              "    </tr>\n",
              "  </tbody>\n",
              "</table>\n",
              "<p>2938 rows × 2311 columns</p>\n",
              "</div>\n",
              "      <button class=\"colab-df-convert\" onclick=\"convertToInteractive('df-0884cf00-063a-4e81-a865-e5b7b09b1002')\"\n",
              "              title=\"Convert this dataframe to an interactive table.\"\n",
              "              style=\"display:none;\">\n",
              "\n",
              "  <svg xmlns=\"http://www.w3.org/2000/svg\" height=\"24px\"viewBox=\"0 0 24 24\"\n",
              "       width=\"24px\">\n",
              "    <path d=\"M0 0h24v24H0V0z\" fill=\"none\"/>\n",
              "    <path d=\"M18.56 5.44l.94 2.06.94-2.06 2.06-.94-2.06-.94-.94-2.06-.94 2.06-2.06.94zm-11 1L8.5 8.5l.94-2.06 2.06-.94-2.06-.94L8.5 2.5l-.94 2.06-2.06.94zm10 10l.94 2.06.94-2.06 2.06-.94-2.06-.94-.94-2.06-.94 2.06-2.06.94z\"/><path d=\"M17.41 7.96l-1.37-1.37c-.4-.4-.92-.59-1.43-.59-.52 0-1.04.2-1.43.59L10.3 9.45l-7.72 7.72c-.78.78-.78 2.05 0 2.83L4 21.41c.39.39.9.59 1.41.59.51 0 1.02-.2 1.41-.59l7.78-7.78 2.81-2.81c.8-.78.8-2.07 0-2.86zM5.41 20L4 18.59l7.72-7.72 1.47 1.35L5.41 20z\"/>\n",
              "  </svg>\n",
              "      </button>\n",
              "\n",
              "\n",
              "\n",
              "    <div id=\"df-c67fefda-bfab-4e90-a75b-cde34b32eae3\">\n",
              "      <button class=\"colab-df-quickchart\" onclick=\"quickchart('df-c67fefda-bfab-4e90-a75b-cde34b32eae3')\"\n",
              "              title=\"Suggest charts.\"\n",
              "              style=\"display:none;\">\n",
              "\n",
              "<svg xmlns=\"http://www.w3.org/2000/svg\" height=\"24px\"viewBox=\"0 0 24 24\"\n",
              "     width=\"24px\">\n",
              "    <g>\n",
              "        <path d=\"M19 3H5c-1.1 0-2 .9-2 2v14c0 1.1.9 2 2 2h14c1.1 0 2-.9 2-2V5c0-1.1-.9-2-2-2zM9 17H7v-7h2v7zm4 0h-2V7h2v10zm4 0h-2v-4h2v4z\"/>\n",
              "    </g>\n",
              "</svg>\n",
              "      </button>\n",
              "    </div>\n",
              "\n",
              "<style>\n",
              "  .colab-df-quickchart {\n",
              "    background-color: #E8F0FE;\n",
              "    border: none;\n",
              "    border-radius: 50%;\n",
              "    cursor: pointer;\n",
              "    display: none;\n",
              "    fill: #1967D2;\n",
              "    height: 32px;\n",
              "    padding: 0 0 0 0;\n",
              "    width: 32px;\n",
              "  }\n",
              "\n",
              "  .colab-df-quickchart:hover {\n",
              "    background-color: #E2EBFA;\n",
              "    box-shadow: 0px 1px 2px rgba(60, 64, 67, 0.3), 0px 1px 3px 1px rgba(60, 64, 67, 0.15);\n",
              "    fill: #174EA6;\n",
              "  }\n",
              "\n",
              "  [theme=dark] .colab-df-quickchart {\n",
              "    background-color: #3B4455;\n",
              "    fill: #D2E3FC;\n",
              "  }\n",
              "\n",
              "  [theme=dark] .colab-df-quickchart:hover {\n",
              "    background-color: #434B5C;\n",
              "    box-shadow: 0px 1px 3px 1px rgba(0, 0, 0, 0.15);\n",
              "    filter: drop-shadow(0px 1px 2px rgba(0, 0, 0, 0.3));\n",
              "    fill: #FFFFFF;\n",
              "  }\n",
              "</style>\n",
              "\n",
              "    <script>\n",
              "      async function quickchart(key) {\n",
              "        const containerElement = document.querySelector('#' + key);\n",
              "        const charts = await google.colab.kernel.invokeFunction(\n",
              "            'suggestCharts', [key], {});\n",
              "      }\n",
              "    </script>\n",
              "\n",
              "      <script>\n",
              "\n",
              "function displayQuickchartButton(domScope) {\n",
              "  let quickchartButtonEl =\n",
              "    domScope.querySelector('#df-c67fefda-bfab-4e90-a75b-cde34b32eae3 button.colab-df-quickchart');\n",
              "  quickchartButtonEl.style.display =\n",
              "    google.colab.kernel.accessAllowed ? 'block' : 'none';\n",
              "}\n",
              "\n",
              "        displayQuickchartButton(document);\n",
              "      </script>\n",
              "      <style>\n",
              "    .colab-df-container {\n",
              "      display:flex;\n",
              "      flex-wrap:wrap;\n",
              "      gap: 12px;\n",
              "    }\n",
              "\n",
              "    .colab-df-convert {\n",
              "      background-color: #E8F0FE;\n",
              "      border: none;\n",
              "      border-radius: 50%;\n",
              "      cursor: pointer;\n",
              "      display: none;\n",
              "      fill: #1967D2;\n",
              "      height: 32px;\n",
              "      padding: 0 0 0 0;\n",
              "      width: 32px;\n",
              "    }\n",
              "\n",
              "    .colab-df-convert:hover {\n",
              "      background-color: #E2EBFA;\n",
              "      box-shadow: 0px 1px 2px rgba(60, 64, 67, 0.3), 0px 1px 3px 1px rgba(60, 64, 67, 0.15);\n",
              "      fill: #174EA6;\n",
              "    }\n",
              "\n",
              "    [theme=dark] .colab-df-convert {\n",
              "      background-color: #3B4455;\n",
              "      fill: #D2E3FC;\n",
              "    }\n",
              "\n",
              "    [theme=dark] .colab-df-convert:hover {\n",
              "      background-color: #434B5C;\n",
              "      box-shadow: 0px 1px 3px 1px rgba(0, 0, 0, 0.15);\n",
              "      filter: drop-shadow(0px 1px 2px rgba(0, 0, 0, 0.3));\n",
              "      fill: #FFFFFF;\n",
              "    }\n",
              "  </style>\n",
              "\n",
              "      <script>\n",
              "        const buttonEl =\n",
              "          document.querySelector('#df-0884cf00-063a-4e81-a865-e5b7b09b1002 button.colab-df-convert');\n",
              "        buttonEl.style.display =\n",
              "          google.colab.kernel.accessAllowed ? 'block' : 'none';\n",
              "\n",
              "        async function convertToInteractive(key) {\n",
              "          const element = document.querySelector('#df-0884cf00-063a-4e81-a865-e5b7b09b1002');\n",
              "          const dataTable =\n",
              "            await google.colab.kernel.invokeFunction('convertToInteractive',\n",
              "                                                     [key], {});\n",
              "          if (!dataTable) return;\n",
              "\n",
              "          const docLinkHtml = 'Like what you see? Visit the ' +\n",
              "            '<a target=\"_blank\" href=https://colab.research.google.com/notebooks/data_table.ipynb>data table notebook</a>'\n",
              "            + ' to learn more about interactive tables.';\n",
              "          element.innerHTML = '';\n",
              "          dataTable['output_type'] = 'display_data';\n",
              "          await google.colab.output.renderOutput(dataTable, element);\n",
              "          const docLink = document.createElement('div');\n",
              "          docLink.innerHTML = docLinkHtml;\n",
              "          element.appendChild(docLink);\n",
              "        }\n",
              "      </script>\n",
              "    </div>\n",
              "  </div>\n"
            ]
          },
          "metadata": {},
          "execution_count": 3
        }
      ]
    },
    {
      "cell_type": "code",
      "source": [
        "data.iloc[:, ::330].describe()"
      ],
      "metadata": {
        "colab": {
          "base_uri": "https://localhost:8080/",
          "height": 300
        },
        "id": "zqdvFXATh_8X",
        "outputId": "09649e0c-aaf3-4bbe-d4c2-681fb3cb6108"
      },
      "execution_count": 4,
      "outputs": [
        {
          "output_type": "execute_result",
          "data": {
            "text/plain": [
              "                 y   x_Ice_0_54   x_Prs_1_54    x_Tr_2_54    x_Ta_3_54  \\\n",
              "count  2938.000000  2938.000000  2938.000000  2938.000000  2938.000000   \n",
              "mean      5.929174     0.000711  1014.466480     2.881120     6.807391   \n",
              "std      10.261930     0.012264     6.168957    10.505956     8.960587   \n",
              "min     -22.924827     0.000000   996.338234   -18.938775   -16.587771   \n",
              "25%      -2.533208     0.000000  1009.924727    -6.631146    -0.656210   \n",
              "50%       5.501247     0.000000  1014.441070     3.101598     6.556785   \n",
              "75%      15.320820     0.000000  1019.203557    12.303907    14.983198   \n",
              "max      24.307005     0.338037  1032.269562    22.516161    23.508466   \n",
              "\n",
              "          x_V_4_54     x_U_5_54   x_Stp_5_54  \n",
              "count  2938.000000  2938.000000  2938.000000  \n",
              "mean     -1.296121     1.650556     8.648627  \n",
              "std       2.394965     3.258421     6.723962  \n",
              "min      -8.652511    -9.804416    -0.648926  \n",
              "25%      -2.874847    -0.286875     2.249398  \n",
              "50%      -0.818961     2.133366     6.851782  \n",
              "75%       0.545206     4.099189    14.996863  \n",
              "max       4.993800     9.278782    23.143994  "
            ],
            "text/html": [
              "\n",
              "\n",
              "  <div id=\"df-27df4a04-b8f1-49b5-9ef1-9559a7b5cbde\">\n",
              "    <div class=\"colab-df-container\">\n",
              "      <div>\n",
              "<style scoped>\n",
              "    .dataframe tbody tr th:only-of-type {\n",
              "        vertical-align: middle;\n",
              "    }\n",
              "\n",
              "    .dataframe tbody tr th {\n",
              "        vertical-align: top;\n",
              "    }\n",
              "\n",
              "    .dataframe thead th {\n",
              "        text-align: right;\n",
              "    }\n",
              "</style>\n",
              "<table border=\"1\" class=\"dataframe\">\n",
              "  <thead>\n",
              "    <tr style=\"text-align: right;\">\n",
              "      <th></th>\n",
              "      <th>y</th>\n",
              "      <th>x_Ice_0_54</th>\n",
              "      <th>x_Prs_1_54</th>\n",
              "      <th>x_Tr_2_54</th>\n",
              "      <th>x_Ta_3_54</th>\n",
              "      <th>x_V_4_54</th>\n",
              "      <th>x_U_5_54</th>\n",
              "      <th>x_Stp_5_54</th>\n",
              "    </tr>\n",
              "  </thead>\n",
              "  <tbody>\n",
              "    <tr>\n",
              "      <th>count</th>\n",
              "      <td>2938.000000</td>\n",
              "      <td>2938.000000</td>\n",
              "      <td>2938.000000</td>\n",
              "      <td>2938.000000</td>\n",
              "      <td>2938.000000</td>\n",
              "      <td>2938.000000</td>\n",
              "      <td>2938.000000</td>\n",
              "      <td>2938.000000</td>\n",
              "    </tr>\n",
              "    <tr>\n",
              "      <th>mean</th>\n",
              "      <td>5.929174</td>\n",
              "      <td>0.000711</td>\n",
              "      <td>1014.466480</td>\n",
              "      <td>2.881120</td>\n",
              "      <td>6.807391</td>\n",
              "      <td>-1.296121</td>\n",
              "      <td>1.650556</td>\n",
              "      <td>8.648627</td>\n",
              "    </tr>\n",
              "    <tr>\n",
              "      <th>std</th>\n",
              "      <td>10.261930</td>\n",
              "      <td>0.012264</td>\n",
              "      <td>6.168957</td>\n",
              "      <td>10.505956</td>\n",
              "      <td>8.960587</td>\n",
              "      <td>2.394965</td>\n",
              "      <td>3.258421</td>\n",
              "      <td>6.723962</td>\n",
              "    </tr>\n",
              "    <tr>\n",
              "      <th>min</th>\n",
              "      <td>-22.924827</td>\n",
              "      <td>0.000000</td>\n",
              "      <td>996.338234</td>\n",
              "      <td>-18.938775</td>\n",
              "      <td>-16.587771</td>\n",
              "      <td>-8.652511</td>\n",
              "      <td>-9.804416</td>\n",
              "      <td>-0.648926</td>\n",
              "    </tr>\n",
              "    <tr>\n",
              "      <th>25%</th>\n",
              "      <td>-2.533208</td>\n",
              "      <td>0.000000</td>\n",
              "      <td>1009.924727</td>\n",
              "      <td>-6.631146</td>\n",
              "      <td>-0.656210</td>\n",
              "      <td>-2.874847</td>\n",
              "      <td>-0.286875</td>\n",
              "      <td>2.249398</td>\n",
              "    </tr>\n",
              "    <tr>\n",
              "      <th>50%</th>\n",
              "      <td>5.501247</td>\n",
              "      <td>0.000000</td>\n",
              "      <td>1014.441070</td>\n",
              "      <td>3.101598</td>\n",
              "      <td>6.556785</td>\n",
              "      <td>-0.818961</td>\n",
              "      <td>2.133366</td>\n",
              "      <td>6.851782</td>\n",
              "    </tr>\n",
              "    <tr>\n",
              "      <th>75%</th>\n",
              "      <td>15.320820</td>\n",
              "      <td>0.000000</td>\n",
              "      <td>1019.203557</td>\n",
              "      <td>12.303907</td>\n",
              "      <td>14.983198</td>\n",
              "      <td>0.545206</td>\n",
              "      <td>4.099189</td>\n",
              "      <td>14.996863</td>\n",
              "    </tr>\n",
              "    <tr>\n",
              "      <th>max</th>\n",
              "      <td>24.307005</td>\n",
              "      <td>0.338037</td>\n",
              "      <td>1032.269562</td>\n",
              "      <td>22.516161</td>\n",
              "      <td>23.508466</td>\n",
              "      <td>4.993800</td>\n",
              "      <td>9.278782</td>\n",
              "      <td>23.143994</td>\n",
              "    </tr>\n",
              "  </tbody>\n",
              "</table>\n",
              "</div>\n",
              "      <button class=\"colab-df-convert\" onclick=\"convertToInteractive('df-27df4a04-b8f1-49b5-9ef1-9559a7b5cbde')\"\n",
              "              title=\"Convert this dataframe to an interactive table.\"\n",
              "              style=\"display:none;\">\n",
              "\n",
              "  <svg xmlns=\"http://www.w3.org/2000/svg\" height=\"24px\"viewBox=\"0 0 24 24\"\n",
              "       width=\"24px\">\n",
              "    <path d=\"M0 0h24v24H0V0z\" fill=\"none\"/>\n",
              "    <path d=\"M18.56 5.44l.94 2.06.94-2.06 2.06-.94-2.06-.94-.94-2.06-.94 2.06-2.06.94zm-11 1L8.5 8.5l.94-2.06 2.06-.94-2.06-.94L8.5 2.5l-.94 2.06-2.06.94zm10 10l.94 2.06.94-2.06 2.06-.94-2.06-.94-.94-2.06-.94 2.06-2.06.94z\"/><path d=\"M17.41 7.96l-1.37-1.37c-.4-.4-.92-.59-1.43-.59-.52 0-1.04.2-1.43.59L10.3 9.45l-7.72 7.72c-.78.78-.78 2.05 0 2.83L4 21.41c.39.39.9.59 1.41.59.51 0 1.02-.2 1.41-.59l7.78-7.78 2.81-2.81c.8-.78.8-2.07 0-2.86zM5.41 20L4 18.59l7.72-7.72 1.47 1.35L5.41 20z\"/>\n",
              "  </svg>\n",
              "      </button>\n",
              "\n",
              "\n",
              "\n",
              "    <div id=\"df-58d1bb61-5ee1-46e4-a5d8-1e7ff202d651\">\n",
              "      <button class=\"colab-df-quickchart\" onclick=\"quickchart('df-58d1bb61-5ee1-46e4-a5d8-1e7ff202d651')\"\n",
              "              title=\"Suggest charts.\"\n",
              "              style=\"display:none;\">\n",
              "\n",
              "<svg xmlns=\"http://www.w3.org/2000/svg\" height=\"24px\"viewBox=\"0 0 24 24\"\n",
              "     width=\"24px\">\n",
              "    <g>\n",
              "        <path d=\"M19 3H5c-1.1 0-2 .9-2 2v14c0 1.1.9 2 2 2h14c1.1 0 2-.9 2-2V5c0-1.1-.9-2-2-2zM9 17H7v-7h2v7zm4 0h-2V7h2v10zm4 0h-2v-4h2v4z\"/>\n",
              "    </g>\n",
              "</svg>\n",
              "      </button>\n",
              "    </div>\n",
              "\n",
              "<style>\n",
              "  .colab-df-quickchart {\n",
              "    background-color: #E8F0FE;\n",
              "    border: none;\n",
              "    border-radius: 50%;\n",
              "    cursor: pointer;\n",
              "    display: none;\n",
              "    fill: #1967D2;\n",
              "    height: 32px;\n",
              "    padding: 0 0 0 0;\n",
              "    width: 32px;\n",
              "  }\n",
              "\n",
              "  .colab-df-quickchart:hover {\n",
              "    background-color: #E2EBFA;\n",
              "    box-shadow: 0px 1px 2px rgba(60, 64, 67, 0.3), 0px 1px 3px 1px rgba(60, 64, 67, 0.15);\n",
              "    fill: #174EA6;\n",
              "  }\n",
              "\n",
              "  [theme=dark] .colab-df-quickchart {\n",
              "    background-color: #3B4455;\n",
              "    fill: #D2E3FC;\n",
              "  }\n",
              "\n",
              "  [theme=dark] .colab-df-quickchart:hover {\n",
              "    background-color: #434B5C;\n",
              "    box-shadow: 0px 1px 3px 1px rgba(0, 0, 0, 0.15);\n",
              "    filter: drop-shadow(0px 1px 2px rgba(0, 0, 0, 0.3));\n",
              "    fill: #FFFFFF;\n",
              "  }\n",
              "</style>\n",
              "\n",
              "    <script>\n",
              "      async function quickchart(key) {\n",
              "        const containerElement = document.querySelector('#' + key);\n",
              "        const charts = await google.colab.kernel.invokeFunction(\n",
              "            'suggestCharts', [key], {});\n",
              "      }\n",
              "    </script>\n",
              "\n",
              "      <script>\n",
              "\n",
              "function displayQuickchartButton(domScope) {\n",
              "  let quickchartButtonEl =\n",
              "    domScope.querySelector('#df-58d1bb61-5ee1-46e4-a5d8-1e7ff202d651 button.colab-df-quickchart');\n",
              "  quickchartButtonEl.style.display =\n",
              "    google.colab.kernel.accessAllowed ? 'block' : 'none';\n",
              "}\n",
              "\n",
              "        displayQuickchartButton(document);\n",
              "      </script>\n",
              "      <style>\n",
              "    .colab-df-container {\n",
              "      display:flex;\n",
              "      flex-wrap:wrap;\n",
              "      gap: 12px;\n",
              "    }\n",
              "\n",
              "    .colab-df-convert {\n",
              "      background-color: #E8F0FE;\n",
              "      border: none;\n",
              "      border-radius: 50%;\n",
              "      cursor: pointer;\n",
              "      display: none;\n",
              "      fill: #1967D2;\n",
              "      height: 32px;\n",
              "      padding: 0 0 0 0;\n",
              "      width: 32px;\n",
              "    }\n",
              "\n",
              "    .colab-df-convert:hover {\n",
              "      background-color: #E2EBFA;\n",
              "      box-shadow: 0px 1px 2px rgba(60, 64, 67, 0.3), 0px 1px 3px 1px rgba(60, 64, 67, 0.15);\n",
              "      fill: #174EA6;\n",
              "    }\n",
              "\n",
              "    [theme=dark] .colab-df-convert {\n",
              "      background-color: #3B4455;\n",
              "      fill: #D2E3FC;\n",
              "    }\n",
              "\n",
              "    [theme=dark] .colab-df-convert:hover {\n",
              "      background-color: #434B5C;\n",
              "      box-shadow: 0px 1px 3px 1px rgba(0, 0, 0, 0.15);\n",
              "      filter: drop-shadow(0px 1px 2px rgba(0, 0, 0, 0.3));\n",
              "      fill: #FFFFFF;\n",
              "    }\n",
              "  </style>\n",
              "\n",
              "      <script>\n",
              "        const buttonEl =\n",
              "          document.querySelector('#df-27df4a04-b8f1-49b5-9ef1-9559a7b5cbde button.colab-df-convert');\n",
              "        buttonEl.style.display =\n",
              "          google.colab.kernel.accessAllowed ? 'block' : 'none';\n",
              "\n",
              "        async function convertToInteractive(key) {\n",
              "          const element = document.querySelector('#df-27df4a04-b8f1-49b5-9ef1-9559a7b5cbde');\n",
              "          const dataTable =\n",
              "            await google.colab.kernel.invokeFunction('convertToInteractive',\n",
              "                                                     [key], {});\n",
              "          if (!dataTable) return;\n",
              "\n",
              "          const docLinkHtml = 'Like what you see? Visit the ' +\n",
              "            '<a target=\"_blank\" href=https://colab.research.google.com/notebooks/data_table.ipynb>data table notebook</a>'\n",
              "            + ' to learn more about interactive tables.';\n",
              "          element.innerHTML = '';\n",
              "          dataTable['output_type'] = 'display_data';\n",
              "          await google.colab.output.renderOutput(dataTable, element);\n",
              "          const docLink = document.createElement('div');\n",
              "          docLink.innerHTML = docLinkHtml;\n",
              "          element.appendChild(docLink);\n",
              "        }\n",
              "      </script>\n",
              "    </div>\n",
              "  </div>\n"
            ]
          },
          "metadata": {},
          "execution_count": 4
        }
      ]
    },
    {
      "cell_type": "code",
      "source": [
        "dt_train, dt_test = train_test_split(data, test_size=0.17, shuffle=False,\n",
        "                                     random_state=0)\n",
        "len(dt_train), len(dt_test)"
      ],
      "metadata": {
        "colab": {
          "base_uri": "https://localhost:8080/"
        },
        "id": "0HN_Fx5Qbxub",
        "outputId": "d87c998c-6389-4b29-b773-7c287b4e6f4f"
      },
      "execution_count": 5,
      "outputs": [
        {
          "output_type": "execute_result",
          "data": {
            "text/plain": [
              "(2438, 500)"
            ]
          },
          "metadata": {},
          "execution_count": 5
        }
      ]
    },
    {
      "cell_type": "code",
      "source": [
        "class WeatherDataset(trc.utils.data.Dataset):\n",
        "  def __init__(self, data):\n",
        "    self.X = trc.tensor(data.iloc[:, 1:].values, dtype=trc.float)\n",
        "    self.y = trc.tensor(data.y.values, dtype=trc.float)\n",
        "\n",
        "  def __len__(self):\n",
        "    return len(self.X)\n",
        "\n",
        "  def __getitem__(self, idx):\n",
        "    return self.X[idx], self.y[idx]"
      ],
      "metadata": {
        "id": "t9d67kj5dgdc"
      },
      "execution_count": 8,
      "outputs": []
    },
    {
      "cell_type": "code",
      "source": [
        "ds_train, ds_test = WeatherDataset(dt_train), WeatherDataset(dt_test)\n",
        "len(ds_train), len(ds_test)"
      ],
      "metadata": {
        "colab": {
          "base_uri": "https://localhost:8080/"
        },
        "id": "XuXQSR7GeaDS",
        "outputId": "f9976997-98dd-4ab0-a330-f1585758c780"
      },
      "execution_count": 9,
      "outputs": [
        {
          "output_type": "execute_result",
          "data": {
            "text/plain": [
              "(2438, 500)"
            ]
          },
          "metadata": {},
          "execution_count": 9
        }
      ]
    },
    {
      "cell_type": "code",
      "source": [
        "len(ds_train[0][0]), ds_train[0][1]"
      ],
      "metadata": {
        "colab": {
          "base_uri": "https://localhost:8080/"
        },
        "id": "LFhJnTE0fklS",
        "outputId": "038daed3-ed9b-4e40-d07e-9cda3c40b4c6"
      },
      "execution_count": 10,
      "outputs": [
        {
          "output_type": "execute_result",
          "data": {
            "text/plain": [
              "(2310, tensor(-4.2336))"
            ]
          },
          "metadata": {},
          "execution_count": 10
        }
      ]
    },
    {
      "cell_type": "code",
      "source": [
        "batch_size = 100\n",
        "\n",
        "train_dl = trc.utils.data.DataLoader(ds_train, batch_size, shuffle=True,\n",
        "                                     pin_memory=True, num_workers=2, drop_last=True)\n",
        "test_dl = trc.utils.data.DataLoader(ds_test, len(ds_test),\n",
        "                                    pin_memory=True, num_workers=2)"
      ],
      "metadata": {
        "id": "CBAioX8NgEvZ"
      },
      "execution_count": 11,
      "outputs": []
    },
    {
      "cell_type": "markdown",
      "source": [
        "# Net"
      ],
      "metadata": {
        "id": "INDHJnevi_IP"
      }
    },
    {
      "cell_type": "code",
      "source": [
        "class WeatherNet(trc.nn.Module):\n",
        "  def __init__(self):\n",
        "    super().__init__()\n",
        "\n",
        "    self.fc_1 = trc.nn.Linear(2310, 10000)\n",
        "    self.fc_2 = trc.nn.Linear(10000, 5000)\n",
        "    self.fc_3 = trc.nn.Linear(5000, 2500)\n",
        "    self.fc_4 = trc.nn.Linear(2500, 1024)\n",
        "    self.fc_5 = trc.nn.Linear(1024, 512)\n",
        "    self.fc_6 = trc.nn.Linear(512, 256)\n",
        "    self.fc_7 = trc.nn.Linear(256, 1)\n",
        "\n",
        "    self.act = trc.nn.ReLU()\n",
        "\n",
        "  def forward(self, x):\n",
        "    # print(x.shape)\n",
        "    x = self.act(self.fc_1(x))\n",
        "    x = self.act(self.fc_2(x))\n",
        "    x = self.act(self.fc_3(x))\n",
        "    x = self.act(self.fc_4(x))\n",
        "    x = self.act(self.fc_5(x))\n",
        "    x = self.act(self.fc_6(x))\n",
        "    return self.fc_7(x).squeeze()"
      ],
      "metadata": {
        "id": "RBgbuujfi75K"
      },
      "execution_count": 12,
      "outputs": []
    },
    {
      "cell_type": "code",
      "source": [
        "np.random.seed(1)\n",
        "trc.manual_seed(1)\n",
        "trc.cuda.manual_seed(1)\n",
        "trc.backends.cudnn.determenistic = True"
      ],
      "metadata": {
        "id": "hep9d5m6jxuA"
      },
      "execution_count": 13,
      "outputs": []
    },
    {
      "cell_type": "code",
      "source": [
        "device = ('cuda:0' if trc.cuda.is_available() else 'cpu')\n",
        "\n",
        "net = WeatherNet().to(device)\n",
        "loss = trc.nn.MSELoss()\n",
        "optimizer = trc.optim.Adam(net.parameters(), lr=0.001, amsgrad=True)\n",
        "# optimizer = trc.optim.NAdam(net.parameters(), lr=0.001)\n",
        "# scheduler = trc.optim.lr_scheduler.StepLR(optimizer, step_size=1, gamma=0.1)\n",
        "\n",
        "device"
      ],
      "metadata": {
        "colab": {
          "base_uri": "https://localhost:8080/",
          "height": 36
        },
        "id": "GzDUWhHAj52u",
        "outputId": "70092343-5630-4a24-e0c6-fa47cda99916"
      },
      "execution_count": 14,
      "outputs": [
        {
          "output_type": "execute_result",
          "data": {
            "text/plain": [
              "'cuda:0'"
            ],
            "application/vnd.google.colaboratory.intrinsic+json": {
              "type": "string"
            }
          },
          "metadata": {},
          "execution_count": 14
        }
      ]
    },
    {
      "cell_type": "markdown",
      "source": [
        "# Learning"
      ],
      "metadata": {
        "id": "sm7Du53hkr84"
      }
    },
    {
      "cell_type": "code",
      "source": [
        "train_loss_hist, train_r2_hist = [], []\n",
        "test_loss_hist, test_r2_hist = [], []\n",
        "min_loss = 1000\n",
        "# lr_red, k = [0.8, 0.9], 0\n",
        "\n",
        "for epoch in tqdm(range(20)):\n",
        "  net.train()\n",
        "  batch_n, loss_sum, r2_sum = 0, 0, 0\n",
        "\n",
        "  for input, targets in train_dl:\n",
        "    input = input.to(device)\n",
        "    targets = targets.to(device)\n",
        "\n",
        "    preds = net.forward(input)\n",
        "    # print(preds.shape, targets.shape)\n",
        "    loss_val = loss(preds, targets)\n",
        "    loss_val.backward()\n",
        "\n",
        "    loss_sum += loss_val.data.cpu()\n",
        "    r2_sum += r2_score(targets.cpu(), preds.data.cpu())\n",
        "    batch_n += 1\n",
        "\n",
        "    optimizer.step()\n",
        "    optimizer.zero_grad()\n",
        "\n",
        "  train_loss_hist.append(loss_sum/batch_n)\n",
        "  train_r2_hist.append(r2_sum/batch_n)\n",
        "  net.eval()\n",
        "\n",
        "  for input, targets in test_dl:\n",
        "    input = input.to(device)\n",
        "    targets = targets.to(device)\n",
        "\n",
        "    with trc.set_grad_enabled(False):\n",
        "      preds = net.forward(input)\n",
        "      loss_val = loss(preds, targets).data.cpu()\n",
        "\n",
        "    test_loss_hist.append(loss_val)\n",
        "    test_r2_hist.append(r2_score(targets.cpu(), preds.data.cpu()))\n",
        "\n",
        "    if loss_val <= min_loss:\n",
        "      trc.save(net, 'weather_model')\n",
        "      min_loss = loss_val\n",
        "\n",
        "    '''if k < len(lr_red) and accuracy > lr_red[k]:\n",
        "      scheduler.step()\n",
        "      k+=1'''"
      ],
      "metadata": {
        "colab": {
          "base_uri": "https://localhost:8080/"
        },
        "id": "z_VDTi_Lkqof",
        "outputId": "b587a3df-f26d-407b-83a2-d38d344cc33c"
      },
      "execution_count": 15,
      "outputs": [
        {
          "output_type": "stream",
          "name": "stderr",
          "text": [
            "100%|██████████| 20/20 [01:03<00:00,  3.18s/it]\n"
          ]
        }
      ]
    },
    {
      "cell_type": "markdown",
      "source": [
        "# Statistics"
      ],
      "metadata": {
        "id": "aRTZUcHuv6fg"
      }
    },
    {
      "cell_type": "code",
      "source": [
        "plt.style.use('dark_background')\n",
        "plt.rcParams['figure.figsize'] = (7, 3)\n",
        "\n",
        "plt.plot(train_loss_hist, label='Тренировочные данные')\n",
        "plt.plot(test_loss_hist, label='Тестовые данные')\n",
        "plt.title('MSE')\n",
        "plt.legend();"
      ],
      "metadata": {
        "colab": {
          "base_uri": "https://localhost:8080/",
          "height": 314
        },
        "id": "3fScLNMaornP",
        "outputId": "49d32212-d2f2-476b-b964-6c6f9d9f6f4d"
      },
      "execution_count": 16,
      "outputs": [
        {
          "output_type": "display_data",
          "data": {
            "text/plain": [
              "<Figure size 700x300 with 1 Axes>"
            ],
            "image/png": "[encoded data removed]"
          },
          "metadata": {}
        }
      ]
    },
    {
      "cell_type": "code",
      "source": [
        "plt.plot(train_loss_hist[1:], label='Тренировочные данные')\n",
        "plt.plot(test_loss_hist[1:], label='Тестовые данные')\n",
        "plt.title('MSE')\n",
        "plt.legend();"
      ],
      "metadata": {
        "colab": {
          "base_uri": "https://localhost:8080/",
          "height": 314
        },
        "id": "3tWKpQ21t9KF",
        "outputId": "49fc59f9-7239-4d07-8736-f624bb429656"
      },
      "execution_count": 17,
      "outputs": [
        {
          "output_type": "display_data",
          "data": {
            "text/plain": [
              "<Figure size 700x300 with 1 Axes>"
            ],
            "image/png": "[encoded data removed]"
          },
          "metadata": {}
        }
      ]
    },
    {
      "cell_type": "code",
      "source": [
        "print(min_loss**(1/2))"
      ],
      "metadata": {
        "colab": {
          "base_uri": "https://localhost:8080/"
        },
        "id": "weUJ5WvhulwA",
        "outputId": "23cafed5-6449-4989-f51b-814bc03b56bb"
      },
      "execution_count": 18,
      "outputs": [
        {
          "output_type": "stream",
          "name": "stdout",
          "text": [
            "tensor(2.8912)\n"
          ]
        }
      ]
    },
    {
      "cell_type": "code",
      "source": [
        "plt.plot(train_r2_hist[1:], label='Тренировочные данные')\n",
        "plt.plot(test_r2_hist[1:], label='Тестовые данные')\n",
        "plt.title('R2')\n",
        "plt.legend();"
      ],
      "metadata": {
        "colab": {
          "base_uri": "https://localhost:8080/",
          "height": 314
        },
        "id": "w0U15hxbvIY4",
        "outputId": "a40a5a13-ecc0-4fc4-b0a8-c9fced0d7a5b"
      },
      "execution_count": 19,
      "outputs": [
        {
          "output_type": "display_data",
          "data": {
            "text/plain": [
              "<Figure size 700x300 with 1 Axes>"
            ],
            "image/png": "[encoded data removed]"
          },
          "metadata": {}
        }
      ]
    },
    {
      "cell_type": "markdown",
      "source": [
        "# Testing"
      ],
      "metadata": {
        "id": "kMjYYpGHY9De"
      }
    },
    {
      "cell_type": "code",
      "source": [
        "net_test = trc.load('weather_model')\n",
        "net_test.to('cpu')\n",
        "preds, targets = trc.tensor([]), trc.tensor([])\n",
        "\n",
        "for X, y in test_dl:\n",
        "  with trc.set_grad_enabled(False):\n",
        "    res = net_test.forward(X).data\n",
        "\n",
        "  preds = trc.cat([preds, res])\n",
        "  targets = trc.cat([targets, y])\n",
        "\n",
        "plt.plot(targets, label='Истина')\n",
        "plt.plot(preds, label='Прогноз')\n",
        "plt.title('Температура воздуха')\n",
        "plt.legend();"
      ],
      "metadata": {
        "id": "CdwmOi51vQ7g",
        "colab": {
          "base_uri": "https://localhost:8080/",
          "height": 314
        },
        "outputId": "4fac705e-46db-4eb9-caf3-51ec54f8b38f"
      },
      "execution_count": 20,
      "outputs": [
        {
          "output_type": "display_data",
          "data": {
            "text/plain": [
              "<Figure size 700x300 with 1 Axes>"
            ],
            "image/png": "[encoded data removed]"
          },
          "metadata": {}
        }
      ]
    },
    {
      "cell_type": "code",
      "source": [
        "plt.plot(targets[:150], label='Истина')\n",
        "plt.plot(preds[:150], label='Прогноз')\n",
        "plt.title('Температура воздуха')\n",
        "plt.legend();"
      ],
      "metadata": {
        "colab": {
          "base_uri": "https://localhost:8080/",
          "height": 314
        },
        "id": "5u2DAIArbtAV",
        "outputId": "30da4436-73bb-4f4d-ce9f-d858669fe194"
      },
      "execution_count": 21,
      "outputs": [
        {
          "output_type": "display_data",
          "data": {
            "text/plain": [
              "<Figure size 700x300 with 1 Axes>"
            ],
            "image/png": "[encoded data removed]"
          },
          "metadata": {}
        }
      ]
    },
    {
      "cell_type": "code",
      "source": [],
      "metadata": {
        "id": "CeQRkRPeb2kF"
      },
      "execution_count": null,
      "outputs": []
    }
  ]
}