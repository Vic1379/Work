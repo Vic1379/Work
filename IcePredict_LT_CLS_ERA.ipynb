{
  "cells": [
    {
      "cell_type": "code",
      "execution_count": 2,
      "metadata": {
        "id": "fSQp5pcsabIN"
      },
      "outputs": [],
      "source": [
        "import numpy as np, matplotlib.pyplot as plt, torch as trc\n",
        "import pandas as pd\n",
        "from tqdm import tqdm\n",
        "\n",
        "from sklearn.model_selection import train_test_split\n",
        "from sklearn.metrics import accuracy_score, classification_report"
      ]
    },
    {
      "cell_type": "code",
      "execution_count": 496,
      "metadata": {},
      "outputs": [
        {
          "data": {
            "text/html": [
              "<div>\n",
              "<style scoped>\n",
              "    .dataframe tbody tr th:only-of-type {\n",
              "        vertical-align: middle;\n",
              "    }\n",
              "\n",
              "    .dataframe tbody tr th {\n",
              "        vertical-align: top;\n",
              "    }\n",
              "\n",
              "    .dataframe thead th {\n",
              "        text-align: right;\n",
              "    }\n",
              "</style>\n",
              "<table border=\"1\" class=\"dataframe\">\n",
              "  <thead>\n",
              "    <tr style=\"text-align: right;\">\n",
              "      <th></th>\n",
              "      <th>Form first</th>\n",
              "      <th>Form stable</th>\n",
              "      <th>Clear first</th>\n",
              "      <th>Clear full</th>\n",
              "      <th>x_I_2_0</th>\n",
              "      <th>x_S_2_0</th>\n",
              "      <th>x_T_2_0</th>\n",
              "      <th>x_F_2_0</th>\n",
              "      <th>x_U_2_0</th>\n",
              "      <th>x_V_2_0</th>\n",
              "    </tr>\n",
              "  </thead>\n",
              "  <tbody>\n",
              "    <tr>\n",
              "      <th>0</th>\n",
              "      <td>0.0</td>\n",
              "      <td>0.0</td>\n",
              "      <td>2.0</td>\n",
              "      <td>1.0</td>\n",
              "      <td>0.976190</td>\n",
              "      <td>-1.689636</td>\n",
              "      <td>-13.033142</td>\n",
              "      <td>-1378.74080</td>\n",
              "      <td>0.396981</td>\n",
              "      <td>-2.768004</td>\n",
              "    </tr>\n",
              "    <tr>\n",
              "      <th>1</th>\n",
              "      <td>124.0</td>\n",
              "      <td>130.0</td>\n",
              "      <td>2.0</td>\n",
              "      <td>2.0</td>\n",
              "      <td>0.929040</td>\n",
              "      <td>-1.689911</td>\n",
              "      <td>-13.854736</td>\n",
              "      <td>-1892.50940</td>\n",
              "      <td>-0.392026</td>\n",
              "      <td>-1.545879</td>\n",
              "    </tr>\n",
              "    <tr>\n",
              "      <th>2</th>\n",
              "      <td>105.0</td>\n",
              "      <td>152.0</td>\n",
              "      <td>1.0</td>\n",
              "      <td>1.0</td>\n",
              "      <td>0.836465</td>\n",
              "      <td>-1.690063</td>\n",
              "      <td>-8.913391</td>\n",
              "      <td>-1344.54220</td>\n",
              "      <td>2.149252</td>\n",
              "      <td>-3.733351</td>\n",
              "    </tr>\n",
              "    <tr>\n",
              "      <th>3</th>\n",
              "      <td>136.0</td>\n",
              "      <td>145.0</td>\n",
              "      <td>1.0</td>\n",
              "      <td>1.0</td>\n",
              "      <td>0.905104</td>\n",
              "      <td>-1.689819</td>\n",
              "      <td>-8.922394</td>\n",
              "      <td>-1644.58070</td>\n",
              "      <td>0.465837</td>\n",
              "      <td>-1.023999</td>\n",
              "    </tr>\n",
              "    <tr>\n",
              "      <th>4</th>\n",
              "      <td>128.0</td>\n",
              "      <td>128.0</td>\n",
              "      <td>1.0</td>\n",
              "      <td>1.0</td>\n",
              "      <td>0.873365</td>\n",
              "      <td>-1.690033</td>\n",
              "      <td>-7.921204</td>\n",
              "      <td>-1789.38780</td>\n",
              "      <td>0.819801</td>\n",
              "      <td>-1.120654</td>\n",
              "    </tr>\n",
              "    <tr>\n",
              "      <th>5</th>\n",
              "      <td>137.0</td>\n",
              "      <td>141.0</td>\n",
              "      <td>0.0</td>\n",
              "      <td>0.0</td>\n",
              "      <td>0.529262</td>\n",
              "      <td>-1.292328</td>\n",
              "      <td>-8.037659</td>\n",
              "      <td>-1189.53630</td>\n",
              "      <td>-0.202729</td>\n",
              "      <td>-3.734922</td>\n",
              "    </tr>\n",
              "    <tr>\n",
              "      <th>6</th>\n",
              "      <td>126.0</td>\n",
              "      <td>126.0</td>\n",
              "      <td>2.0</td>\n",
              "      <td>1.0</td>\n",
              "      <td>0.874553</td>\n",
              "      <td>-1.690155</td>\n",
              "      <td>-6.312439</td>\n",
              "      <td>-1770.35550</td>\n",
              "      <td>-1.197339</td>\n",
              "      <td>0.885920</td>\n",
              "    </tr>\n",
              "    <tr>\n",
              "      <th>7</th>\n",
              "      <td>127.0</td>\n",
              "      <td>132.0</td>\n",
              "      <td>1.0</td>\n",
              "      <td>1.0</td>\n",
              "      <td>0.828195</td>\n",
              "      <td>-1.688568</td>\n",
              "      <td>-7.873871</td>\n",
              "      <td>-1632.23410</td>\n",
              "      <td>-0.532210</td>\n",
              "      <td>-0.518127</td>\n",
              "    </tr>\n",
              "    <tr>\n",
              "      <th>8</th>\n",
              "      <td>138.0</td>\n",
              "      <td>138.0</td>\n",
              "      <td>2.0</td>\n",
              "      <td>2.0</td>\n",
              "      <td>0.730530</td>\n",
              "      <td>-1.667908</td>\n",
              "      <td>-9.574524</td>\n",
              "      <td>-1531.95290</td>\n",
              "      <td>2.187770</td>\n",
              "      <td>-3.351915</td>\n",
              "    </tr>\n",
              "    <tr>\n",
              "      <th>9</th>\n",
              "      <td>129.0</td>\n",
              "      <td>129.0</td>\n",
              "      <td>1.0</td>\n",
              "      <td>0.0</td>\n",
              "      <td>0.850303</td>\n",
              "      <td>-1.689697</td>\n",
              "      <td>-4.139587</td>\n",
              "      <td>-1707.70800</td>\n",
              "      <td>-2.758655</td>\n",
              "      <td>-0.079360</td>\n",
              "    </tr>\n",
              "    <tr>\n",
              "      <th>10</th>\n",
              "      <td>143.0</td>\n",
              "      <td>143.0</td>\n",
              "      <td>0.0</td>\n",
              "      <td>0.0</td>\n",
              "      <td>0.842564</td>\n",
              "      <td>-1.684540</td>\n",
              "      <td>-3.516357</td>\n",
              "      <td>-1204.74500</td>\n",
              "      <td>-0.664297</td>\n",
              "      <td>1.739320</td>\n",
              "    </tr>\n",
              "    <tr>\n",
              "      <th>11</th>\n",
              "      <td>136.0</td>\n",
              "      <td>136.0</td>\n",
              "      <td>1.0</td>\n",
              "      <td>0.0</td>\n",
              "      <td>0.747761</td>\n",
              "      <td>-1.687866</td>\n",
              "      <td>-5.433777</td>\n",
              "      <td>-1495.99730</td>\n",
              "      <td>2.263134</td>\n",
              "      <td>-2.591087</td>\n",
              "    </tr>\n",
              "    <tr>\n",
              "      <th>12</th>\n",
              "      <td>133.0</td>\n",
              "      <td>166.0</td>\n",
              "      <td>0.0</td>\n",
              "      <td>1.0</td>\n",
              "      <td>0.846224</td>\n",
              "      <td>-1.689911</td>\n",
              "      <td>-12.181061</td>\n",
              "      <td>-1076.74840</td>\n",
              "      <td>3.235744</td>\n",
              "      <td>-2.202275</td>\n",
              "    </tr>\n",
              "    <tr>\n",
              "      <th>13</th>\n",
              "      <td>132.0</td>\n",
              "      <td>132.0</td>\n",
              "      <td>0.0</td>\n",
              "      <td>0.0</td>\n",
              "      <td>0.812084</td>\n",
              "      <td>-1.689697</td>\n",
              "      <td>-5.556152</td>\n",
              "      <td>-1471.35970</td>\n",
              "      <td>0.974932</td>\n",
              "      <td>1.993474</td>\n",
              "    </tr>\n",
              "    <tr>\n",
              "      <th>14</th>\n",
              "      <td>125.0</td>\n",
              "      <td>133.0</td>\n",
              "      <td>1.0</td>\n",
              "      <td>0.0</td>\n",
              "      <td>0.888039</td>\n",
              "      <td>-1.689911</td>\n",
              "      <td>-10.943237</td>\n",
              "      <td>-1513.71770</td>\n",
              "      <td>2.269604</td>\n",
              "      <td>-1.607214</td>\n",
              "    </tr>\n",
              "    <tr>\n",
              "      <th>15</th>\n",
              "      <td>131.0</td>\n",
              "      <td>138.0</td>\n",
              "      <td>0.0</td>\n",
              "      <td>0.0</td>\n",
              "      <td>0.599791</td>\n",
              "      <td>-1.497681</td>\n",
              "      <td>-9.407410</td>\n",
              "      <td>-1501.85750</td>\n",
              "      <td>-0.331353</td>\n",
              "      <td>-3.662668</td>\n",
              "    </tr>\n",
              "    <tr>\n",
              "      <th>16</th>\n",
              "      <td>132.0</td>\n",
              "      <td>132.0</td>\n",
              "      <td>1.0</td>\n",
              "      <td>2.0</td>\n",
              "      <td>0.879622</td>\n",
              "      <td>-1.689819</td>\n",
              "      <td>-12.535004</td>\n",
              "      <td>-1455.78700</td>\n",
              "      <td>0.761746</td>\n",
              "      <td>0.161374</td>\n",
              "    </tr>\n",
              "    <tr>\n",
              "      <th>17</th>\n",
              "      <td>138.0</td>\n",
              "      <td>164.0</td>\n",
              "      <td>1.0</td>\n",
              "      <td>1.0</td>\n",
              "      <td>0.736166</td>\n",
              "      <td>-1.689667</td>\n",
              "      <td>-9.420441</td>\n",
              "      <td>-1222.11660</td>\n",
              "      <td>3.214140</td>\n",
              "      <td>-1.816499</td>\n",
              "    </tr>\n",
              "    <tr>\n",
              "      <th>18</th>\n",
              "      <td>133.0</td>\n",
              "      <td>133.0</td>\n",
              "      <td>1.0</td>\n",
              "      <td>0.0</td>\n",
              "      <td>0.740151</td>\n",
              "      <td>-1.673920</td>\n",
              "      <td>-5.460785</td>\n",
              "      <td>-1330.30360</td>\n",
              "      <td>1.877155</td>\n",
              "      <td>-1.195126</td>\n",
              "    </tr>\n",
              "    <tr>\n",
              "      <th>19</th>\n",
              "      <td>132.0</td>\n",
              "      <td>135.0</td>\n",
              "      <td>1.0</td>\n",
              "      <td>1.0</td>\n",
              "      <td>0.736192</td>\n",
              "      <td>-1.659027</td>\n",
              "      <td>-6.809753</td>\n",
              "      <td>-1589.93210</td>\n",
              "      <td>0.216610</td>\n",
              "      <td>-0.440733</td>\n",
              "    </tr>\n",
              "    <tr>\n",
              "      <th>20</th>\n",
              "      <td>123.0</td>\n",
              "      <td>123.0</td>\n",
              "      <td>1.0</td>\n",
              "      <td>1.0</td>\n",
              "      <td>0.895988</td>\n",
              "      <td>-1.689911</td>\n",
              "      <td>-13.696533</td>\n",
              "      <td>-1802.85770</td>\n",
              "      <td>1.207501</td>\n",
              "      <td>-2.295065</td>\n",
              "    </tr>\n",
              "    <tr>\n",
              "      <th>21</th>\n",
              "      <td>126.0</td>\n",
              "      <td>161.0</td>\n",
              "      <td>1.0</td>\n",
              "      <td>1.0</td>\n",
              "      <td>0.929123</td>\n",
              "      <td>-1.690002</td>\n",
              "      <td>-10.237946</td>\n",
              "      <td>-1347.73750</td>\n",
              "      <td>-0.753859</td>\n",
              "      <td>-4.712312</td>\n",
              "    </tr>\n",
              "    <tr>\n",
              "      <th>22</th>\n",
              "      <td>124.0</td>\n",
              "      <td>124.0</td>\n",
              "      <td>2.0</td>\n",
              "      <td>1.0</td>\n",
              "      <td>0.959956</td>\n",
              "      <td>-1.689819</td>\n",
              "      <td>-3.660156</td>\n",
              "      <td>-1919.79610</td>\n",
              "      <td>-4.849862</td>\n",
              "      <td>-0.592342</td>\n",
              "    </tr>\n",
              "    <tr>\n",
              "      <th>23</th>\n",
              "      <td>122.0</td>\n",
              "      <td>122.0</td>\n",
              "      <td>1.0</td>\n",
              "      <td>2.0</td>\n",
              "      <td>0.807225</td>\n",
              "      <td>-1.689697</td>\n",
              "      <td>-8.107880</td>\n",
              "      <td>-1409.87270</td>\n",
              "      <td>1.934793</td>\n",
              "      <td>-1.433991</td>\n",
              "    </tr>\n",
              "    <tr>\n",
              "      <th>24</th>\n",
              "      <td>134.0</td>\n",
              "      <td>134.0</td>\n",
              "      <td>1.0</td>\n",
              "      <td>1.0</td>\n",
              "      <td>0.793314</td>\n",
              "      <td>-1.689636</td>\n",
              "      <td>-7.563904</td>\n",
              "      <td>-1598.32600</td>\n",
              "      <td>1.654125</td>\n",
              "      <td>-1.487623</td>\n",
              "    </tr>\n",
              "    <tr>\n",
              "      <th>25</th>\n",
              "      <td>127.0</td>\n",
              "      <td>127.0</td>\n",
              "      <td>0.0</td>\n",
              "      <td>1.0</td>\n",
              "      <td>0.711742</td>\n",
              "      <td>-1.625916</td>\n",
              "      <td>-6.687195</td>\n",
              "      <td>-1582.43470</td>\n",
              "      <td>-0.378589</td>\n",
              "      <td>-2.058517</td>\n",
              "    </tr>\n",
              "    <tr>\n",
              "      <th>26</th>\n",
              "      <td>136.0</td>\n",
              "      <td>145.0</td>\n",
              "      <td>1.0</td>\n",
              "      <td>1.0</td>\n",
              "      <td>0.623389</td>\n",
              "      <td>-1.443939</td>\n",
              "      <td>-5.164886</td>\n",
              "      <td>-1372.53560</td>\n",
              "      <td>-0.314190</td>\n",
              "      <td>-4.215238</td>\n",
              "    </tr>\n",
              "    <tr>\n",
              "      <th>27</th>\n",
              "      <td>148.0</td>\n",
              "      <td>148.0</td>\n",
              "      <td>0.0</td>\n",
              "      <td>0.0</td>\n",
              "      <td>0.484886</td>\n",
              "      <td>-1.157135</td>\n",
              "      <td>-5.324860</td>\n",
              "      <td>-1229.90730</td>\n",
              "      <td>0.356309</td>\n",
              "      <td>-4.030074</td>\n",
              "    </tr>\n",
              "    <tr>\n",
              "      <th>28</th>\n",
              "      <td>125.0</td>\n",
              "      <td>125.0</td>\n",
              "      <td>1.0</td>\n",
              "      <td>0.0</td>\n",
              "      <td>0.824927</td>\n",
              "      <td>-1.682434</td>\n",
              "      <td>-6.954620</td>\n",
              "      <td>-1589.69710</td>\n",
              "      <td>0.612462</td>\n",
              "      <td>-2.297330</td>\n",
              "    </tr>\n",
              "    <tr>\n",
              "      <th>29</th>\n",
              "      <td>133.0</td>\n",
              "      <td>139.0</td>\n",
              "      <td>2.0</td>\n",
              "      <td>2.0</td>\n",
              "      <td>0.760810</td>\n",
              "      <td>-1.655212</td>\n",
              "      <td>-3.533386</td>\n",
              "      <td>-1366.60660</td>\n",
              "      <td>-1.737688</td>\n",
              "      <td>-1.035649</td>\n",
              "    </tr>\n",
              "    <tr>\n",
              "      <th>30</th>\n",
              "      <td>135.0</td>\n",
              "      <td>156.0</td>\n",
              "      <td>2.0</td>\n",
              "      <td>2.0</td>\n",
              "      <td>0.739002</td>\n",
              "      <td>-1.621002</td>\n",
              "      <td>-4.363739</td>\n",
              "      <td>-1260.08950</td>\n",
              "      <td>-2.574820</td>\n",
              "      <td>0.934717</td>\n",
              "    </tr>\n",
              "    <tr>\n",
              "      <th>31</th>\n",
              "      <td>133.0</td>\n",
              "      <td>160.0</td>\n",
              "      <td>1.0</td>\n",
              "      <td>2.0</td>\n",
              "      <td>0.728374</td>\n",
              "      <td>-1.689697</td>\n",
              "      <td>-8.564789</td>\n",
              "      <td>-1369.78030</td>\n",
              "      <td>2.925891</td>\n",
              "      <td>-3.089815</td>\n",
              "    </tr>\n",
              "    <tr>\n",
              "      <th>32</th>\n",
              "      <td>139.0</td>\n",
              "      <td>154.0</td>\n",
              "      <td>1.0</td>\n",
              "      <td>1.0</td>\n",
              "      <td>0.841893</td>\n",
              "      <td>-1.690033</td>\n",
              "      <td>-8.489044</td>\n",
              "      <td>-1078.74240</td>\n",
              "      <td>2.261378</td>\n",
              "      <td>-1.018386</td>\n",
              "    </tr>\n",
              "    <tr>\n",
              "      <th>33</th>\n",
              "      <td>136.0</td>\n",
              "      <td>148.0</td>\n",
              "      <td>0.0</td>\n",
              "      <td>0.0</td>\n",
              "      <td>0.855750</td>\n",
              "      <td>-1.689758</td>\n",
              "      <td>-9.950653</td>\n",
              "      <td>-1459.62960</td>\n",
              "      <td>1.653965</td>\n",
              "      <td>-2.767030</td>\n",
              "    </tr>\n",
              "    <tr>\n",
              "      <th>34</th>\n",
              "      <td>139.0</td>\n",
              "      <td>139.0</td>\n",
              "      <td>2.0</td>\n",
              "      <td>1.0</td>\n",
              "      <td>0.720244</td>\n",
              "      <td>-1.689148</td>\n",
              "      <td>-6.557404</td>\n",
              "      <td>-1361.87610</td>\n",
              "      <td>1.079799</td>\n",
              "      <td>-3.477154</td>\n",
              "    </tr>\n",
              "    <tr>\n",
              "      <th>35</th>\n",
              "      <td>152.0</td>\n",
              "      <td>152.0</td>\n",
              "      <td>0.0</td>\n",
              "      <td>1.0</td>\n",
              "      <td>0.627913</td>\n",
              "      <td>-1.661316</td>\n",
              "      <td>-4.873901</td>\n",
              "      <td>-1188.48610</td>\n",
              "      <td>1.300531</td>\n",
              "      <td>-0.998767</td>\n",
              "    </tr>\n",
              "    <tr>\n",
              "      <th>36</th>\n",
              "      <td>133.0</td>\n",
              "      <td>139.0</td>\n",
              "      <td>2.0</td>\n",
              "      <td>1.0</td>\n",
              "      <td>0.381578</td>\n",
              "      <td>-1.589661</td>\n",
              "      <td>-3.802033</td>\n",
              "      <td>-962.74646</td>\n",
              "      <td>-0.360437</td>\n",
              "      <td>-0.070311</td>\n",
              "    </tr>\n",
              "    <tr>\n",
              "      <th>37</th>\n",
              "      <td>134.0</td>\n",
              "      <td>141.0</td>\n",
              "      <td>1.0</td>\n",
              "      <td>2.0</td>\n",
              "      <td>0.830143</td>\n",
              "      <td>-1.689545</td>\n",
              "      <td>-4.056396</td>\n",
              "      <td>-1436.42420</td>\n",
              "      <td>-2.356914</td>\n",
              "      <td>-0.732782</td>\n",
              "    </tr>\n",
              "    <tr>\n",
              "      <th>38</th>\n",
              "      <td>100.0</td>\n",
              "      <td>117.0</td>\n",
              "      <td>2.0</td>\n",
              "      <td>1.0</td>\n",
              "      <td>0.477877</td>\n",
              "      <td>-1.578522</td>\n",
              "      <td>-4.743164</td>\n",
              "      <td>-1417.38670</td>\n",
              "      <td>1.867123</td>\n",
              "      <td>-3.226300</td>\n",
              "    </tr>\n",
              "    <tr>\n",
              "      <th>39</th>\n",
              "      <td>124.0</td>\n",
              "      <td>124.0</td>\n",
              "      <td>2.0</td>\n",
              "      <td>1.0</td>\n",
              "      <td>0.824938</td>\n",
              "      <td>-1.689911</td>\n",
              "      <td>-7.370575</td>\n",
              "      <td>-1686.09730</td>\n",
              "      <td>2.139239</td>\n",
              "      <td>-0.321457</td>\n",
              "    </tr>\n",
              "    <tr>\n",
              "      <th>40</th>\n",
              "      <td>131.0</td>\n",
              "      <td>135.0</td>\n",
              "      <td>1.0</td>\n",
              "      <td>0.0</td>\n",
              "      <td>0.861837</td>\n",
              "      <td>-1.690033</td>\n",
              "      <td>-10.722534</td>\n",
              "      <td>-1387.52860</td>\n",
              "      <td>2.798318</td>\n",
              "      <td>-4.437682</td>\n",
              "    </tr>\n",
              "    <tr>\n",
              "      <th>41</th>\n",
              "      <td>129.0</td>\n",
              "      <td>129.0</td>\n",
              "      <td>0.0</td>\n",
              "      <td>2.0</td>\n",
              "      <td>0.602606</td>\n",
              "      <td>-1.673492</td>\n",
              "      <td>-4.385529</td>\n",
              "      <td>-1456.75710</td>\n",
              "      <td>2.906398</td>\n",
              "      <td>-2.228610</td>\n",
              "    </tr>\n",
              "    <tr>\n",
              "      <th>42</th>\n",
              "      <td>132.0</td>\n",
              "      <td>137.0</td>\n",
              "      <td>2.0</td>\n",
              "      <td>2.0</td>\n",
              "      <td>0.730995</td>\n",
              "      <td>-1.689606</td>\n",
              "      <td>-6.193909</td>\n",
              "      <td>-1562.26100</td>\n",
              "      <td>1.539238</td>\n",
              "      <td>-0.145927</td>\n",
              "    </tr>\n",
              "    <tr>\n",
              "      <th>43</th>\n",
              "      <td>101.0</td>\n",
              "      <td>137.0</td>\n",
              "      <td>2.0</td>\n",
              "      <td>2.0</td>\n",
              "      <td>0.510284</td>\n",
              "      <td>-1.527069</td>\n",
              "      <td>-5.428162</td>\n",
              "      <td>-1071.49220</td>\n",
              "      <td>2.544953</td>\n",
              "      <td>-1.949318</td>\n",
              "    </tr>\n",
              "    <tr>\n",
              "      <th>44</th>\n",
              "      <td>126.0</td>\n",
              "      <td>126.0</td>\n",
              "      <td>1.0</td>\n",
              "      <td>1.0</td>\n",
              "      <td>0.501184</td>\n",
              "      <td>-1.611938</td>\n",
              "      <td>-4.110290</td>\n",
              "      <td>-1532.36080</td>\n",
              "      <td>1.037229</td>\n",
              "      <td>-0.276228</td>\n",
              "    </tr>\n",
              "  </tbody>\n",
              "</table>\n",
              "</div>"
            ],
            "text/plain": [
              "    Form first  Form stable  Clear first  Clear full   x_I_2_0   x_S_2_0  \\\n",
              "0          0.0          0.0          2.0         1.0  0.976190 -1.689636   \n",
              "1        124.0        130.0          2.0         2.0  0.929040 -1.689911   \n",
              "2        105.0        152.0          1.0         1.0  0.836465 -1.690063   \n",
              "3        136.0        145.0          1.0         1.0  0.905104 -1.689819   \n",
              "4        128.0        128.0          1.0         1.0  0.873365 -1.690033   \n",
              "5        137.0        141.0          0.0         0.0  0.529262 -1.292328   \n",
              "6        126.0        126.0          2.0         1.0  0.874553 -1.690155   \n",
              "7        127.0        132.0          1.0         1.0  0.828195 -1.688568   \n",
              "8        138.0        138.0          2.0         2.0  0.730530 -1.667908   \n",
              "9        129.0        129.0          1.0         0.0  0.850303 -1.689697   \n",
              "10       143.0        143.0          0.0         0.0  0.842564 -1.684540   \n",
              "11       136.0        136.0          1.0         0.0  0.747761 -1.687866   \n",
              "12       133.0        166.0          0.0         1.0  0.846224 -1.689911   \n",
              "13       132.0        132.0          0.0         0.0  0.812084 -1.689697   \n",
              "14       125.0        133.0          1.0         0.0  0.888039 -1.689911   \n",
              "15       131.0        138.0          0.0         0.0  0.599791 -1.497681   \n",
              "16       132.0        132.0          1.0         2.0  0.879622 -1.689819   \n",
              "17       138.0        164.0          1.0         1.0  0.736166 -1.689667   \n",
              "18       133.0        133.0          1.0         0.0  0.740151 -1.673920   \n",
              "19       132.0        135.0          1.0         1.0  0.736192 -1.659027   \n",
              "20       123.0        123.0          1.0         1.0  0.895988 -1.689911   \n",
              "21       126.0        161.0          1.0         1.0  0.929123 -1.690002   \n",
              "22       124.0        124.0          2.0         1.0  0.959956 -1.689819   \n",
              "23       122.0        122.0          1.0         2.0  0.807225 -1.689697   \n",
              "24       134.0        134.0          1.0         1.0  0.793314 -1.689636   \n",
              "25       127.0        127.0          0.0         1.0  0.711742 -1.625916   \n",
              "26       136.0        145.0          1.0         1.0  0.623389 -1.443939   \n",
              "27       148.0        148.0          0.0         0.0  0.484886 -1.157135   \n",
              "28       125.0        125.0          1.0         0.0  0.824927 -1.682434   \n",
              "29       133.0        139.0          2.0         2.0  0.760810 -1.655212   \n",
              "30       135.0        156.0          2.0         2.0  0.739002 -1.621002   \n",
              "31       133.0        160.0          1.0         2.0  0.728374 -1.689697   \n",
              "32       139.0        154.0          1.0         1.0  0.841893 -1.690033   \n",
              "33       136.0        148.0          0.0         0.0  0.855750 -1.689758   \n",
              "34       139.0        139.0          2.0         1.0  0.720244 -1.689148   \n",
              "35       152.0        152.0          0.0         1.0  0.627913 -1.661316   \n",
              "36       133.0        139.0          2.0         1.0  0.381578 -1.589661   \n",
              "37       134.0        141.0          1.0         2.0  0.830143 -1.689545   \n",
              "38       100.0        117.0          2.0         1.0  0.477877 -1.578522   \n",
              "39       124.0        124.0          2.0         1.0  0.824938 -1.689911   \n",
              "40       131.0        135.0          1.0         0.0  0.861837 -1.690033   \n",
              "41       129.0        129.0          0.0         2.0  0.602606 -1.673492   \n",
              "42       132.0        137.0          2.0         2.0  0.730995 -1.689606   \n",
              "43       101.0        137.0          2.0         2.0  0.510284 -1.527069   \n",
              "44       126.0        126.0          1.0         1.0  0.501184 -1.611938   \n",
              "\n",
              "      x_T_2_0     x_F_2_0   x_U_2_0   x_V_2_0  \n",
              "0  -13.033142 -1378.74080  0.396981 -2.768004  \n",
              "1  -13.854736 -1892.50940 -0.392026 -1.545879  \n",
              "2   -8.913391 -1344.54220  2.149252 -3.733351  \n",
              "3   -8.922394 -1644.58070  0.465837 -1.023999  \n",
              "4   -7.921204 -1789.38780  0.819801 -1.120654  \n",
              "5   -8.037659 -1189.53630 -0.202729 -3.734922  \n",
              "6   -6.312439 -1770.35550 -1.197339  0.885920  \n",
              "7   -7.873871 -1632.23410 -0.532210 -0.518127  \n",
              "8   -9.574524 -1531.95290  2.187770 -3.351915  \n",
              "9   -4.139587 -1707.70800 -2.758655 -0.079360  \n",
              "10  -3.516357 -1204.74500 -0.664297  1.739320  \n",
              "11  -5.433777 -1495.99730  2.263134 -2.591087  \n",
              "12 -12.181061 -1076.74840  3.235744 -2.202275  \n",
              "13  -5.556152 -1471.35970  0.974932  1.993474  \n",
              "14 -10.943237 -1513.71770  2.269604 -1.607214  \n",
              "15  -9.407410 -1501.85750 -0.331353 -3.662668  \n",
              "16 -12.535004 -1455.78700  0.761746  0.161374  \n",
              "17  -9.420441 -1222.11660  3.214140 -1.816499  \n",
              "18  -5.460785 -1330.30360  1.877155 -1.195126  \n",
              "19  -6.809753 -1589.93210  0.216610 -0.440733  \n",
              "20 -13.696533 -1802.85770  1.207501 -2.295065  \n",
              "21 -10.237946 -1347.73750 -0.753859 -4.712312  \n",
              "22  -3.660156 -1919.79610 -4.849862 -0.592342  \n",
              "23  -8.107880 -1409.87270  1.934793 -1.433991  \n",
              "24  -7.563904 -1598.32600  1.654125 -1.487623  \n",
              "25  -6.687195 -1582.43470 -0.378589 -2.058517  \n",
              "26  -5.164886 -1372.53560 -0.314190 -4.215238  \n",
              "27  -5.324860 -1229.90730  0.356309 -4.030074  \n",
              "28  -6.954620 -1589.69710  0.612462 -2.297330  \n",
              "29  -3.533386 -1366.60660 -1.737688 -1.035649  \n",
              "30  -4.363739 -1260.08950 -2.574820  0.934717  \n",
              "31  -8.564789 -1369.78030  2.925891 -3.089815  \n",
              "32  -8.489044 -1078.74240  2.261378 -1.018386  \n",
              "33  -9.950653 -1459.62960  1.653965 -2.767030  \n",
              "34  -6.557404 -1361.87610  1.079799 -3.477154  \n",
              "35  -4.873901 -1188.48610  1.300531 -0.998767  \n",
              "36  -3.802033  -962.74646 -0.360437 -0.070311  \n",
              "37  -4.056396 -1436.42420 -2.356914 -0.732782  \n",
              "38  -4.743164 -1417.38670  1.867123 -3.226300  \n",
              "39  -7.370575 -1686.09730  2.139239 -0.321457  \n",
              "40 -10.722534 -1387.52860  2.798318 -4.437682  \n",
              "41  -4.385529 -1456.75710  2.906398 -2.228610  \n",
              "42  -6.193909 -1562.26100  1.539238 -0.145927  \n",
              "43  -5.428162 -1071.49220  2.544953 -1.949318  \n",
              "44  -4.110290 -1532.36080  1.037229 -0.276228  "
            ]
          },
          "execution_count": 496,
          "metadata": {},
          "output_type": "execute_result"
        }
      ],
      "source": [
        "data = pd.read_csv('dataset_lunapil_dec_mar.csv')\n",
        "data = data.fillna(0)\n",
        "\n",
        "dec_n = 1 #!!!\n",
        "for i in range(3-dec_n):\n",
        "    for col in data.columns:\n",
        "        if col[4] == str(i):\n",
        "            data = data.drop(col, axis=1)\n",
        "\n",
        "data"
      ]
    },
    {
      "cell_type": "code",
      "execution_count": 497,
      "metadata": {},
      "outputs": [],
      "source": [
        "# Adjust values\n",
        "if dec_n == 3:\n",
        "    cols_to_dec = ['Form first', 'Form stable', 'x_F_0_0', 'x_F_1_0', 'x_F_2_0']\n",
        "elif dec_n == 2:\n",
        "    cols_to_dec = ['Form first', 'Form stable', 'x_F_1_0', 'x_F_2_0']\n",
        "elif dec_n == 1:\n",
        "    cols_to_dec = ['Form first', 'Form stable', 'x_F_2_0']\n",
        "else: print('Unsupported dec_n!')\n",
        "\n",
        "# cols_to_dec = ['Clear first', 'Clear full', 'x_F_0_0', 'x_F_1_0', 'x_F_2_0']\n",
        "for col in cols_to_dec:\n",
        "    data[col] /= 100"
      ]
    },
    {
      "cell_type": "code",
      "execution_count": 498,
      "metadata": {},
      "outputs": [
        {
          "name": "stdout",
          "output_type": "stream",
          "text": [
            "['Clear first', 'Clear full', 'x_S_2_0', 'x_V_2_0', 'Form first']\n"
          ]
        }
      ],
      "source": [
        "# Drop values\n",
        "vals_to_keep = ['Clear first', 'Clear full']\n",
        "\n",
        "# Get vals with best corr:\n",
        "val_n = 3\n",
        "for i in list(abs(data.corr()['Clear full']).sort_values()[::-1].items()):\n",
        "    if (val_n > 0) and (i[0] not in vals_to_keep):\n",
        "        vals_to_keep.append(i[0])\n",
        "        val_n -= 1\n",
        "print(vals_to_keep)\n",
        "\n",
        "for val in data.columns:\n",
        "    if val not in vals_to_keep:\n",
        "        data = data.drop(val, axis=1)"
      ]
    },
    {
      "cell_type": "code",
      "execution_count": 481,
      "metadata": {},
      "outputs": [
        {
          "data": {
            "image/png": "[encoded data removed]",
            "text/plain": [
              "<Figure size 1000x300 with 1 Axes>"
            ]
          },
          "metadata": {},
          "output_type": "display_data"
        }
      ],
      "source": [
        "inertia = np.ones(len(data), dtype=int)\n",
        "for i in range(1, len(inertia)):\n",
        "    inertia[i] = data['Clear full'][i-1]\n",
        "    # inertia[i] = data['Form first'][i-1]\n",
        "\n",
        "data['inert'] = inertia\n",
        "data.inert.hist();"
      ]
    },
    {
      "cell_type": "code",
      "execution_count": 482,
      "metadata": {},
      "outputs": [
        {
          "data": {
            "text/plain": [
              "(35, 10)"
            ]
          },
          "execution_count": 482,
          "metadata": {},
          "output_type": "execute_result"
        }
      ],
      "source": [
        "dt_train, dt_test = train_test_split(data, test_size=0.21, shuffle=False, random_state=5)\n",
        "# dt_train, dt_test = train_test_split(data, test_size=0.21, shuffle=True, random_state=5)\n",
        "len(dt_train), len(dt_test)"
      ]
    },
    {
      "cell_type": "code",
      "execution_count": 438,
      "metadata": {},
      "outputs": [],
      "source": [
        "class WeatherDataset(trc.utils.data.Dataset):\n",
        "  def __init__(self, data):\n",
        "    self.X = trc.tensor(data.iloc[:, 2:-1].values, dtype=trc.float)\n",
        "    self.y = trc.tensor(data['Clear full'].values, dtype=trc.long)\n",
        "    # self.y = trc.tensor(data['Form first'].values, dtype=trc.long)\n",
        "\n",
        "  def __len__(self):\n",
        "    return len(self.X)\n",
        "\n",
        "  def __getitem__(self, idx):\n",
        "    return self.X[idx], self.y[idx]\n",
        "\n",
        "class WeatherDataset_noise(trc.utils.data.Dataset):\n",
        "  def __init__(self, data):\n",
        "    self.X = trc.tensor(data.iloc[:, 2:-1].values, dtype=trc.float)\n",
        "    self.y = trc.tensor(data['Clear full'].values, dtype=trc.long)\n",
        "    # self.y = trc.tensor(data['Form first'].values, dtype=trc.long)\n",
        "\n",
        "  def __len__(self):\n",
        "    return len(self.X)\n",
        "\n",
        "  def __getitem__(self, idx):\n",
        "    x_n = len(self.X[idx])\n",
        "    z_n_min, z_n_max = 1, x_n//2\n",
        "    z_n = np.random.randint(z_n_min, z_n_max+1)\n",
        "    mask = np.random.permutation([0]*z_n + [1]*(x_n-z_n))\n",
        "    return (self.X[idx]*mask).float(), self.y[idx]"
      ]
    },
    {
      "cell_type": "code",
      "execution_count": 439,
      "metadata": {},
      "outputs": [
        {
          "data": {
            "text/plain": [
              "(35, 10)"
            ]
          },
          "execution_count": 439,
          "metadata": {},
          "output_type": "execute_result"
        }
      ],
      "source": [
        "ds_train, ds_test = WeatherDataset(dt_train), WeatherDataset(dt_test)\n",
        "len(ds_train), len(ds_test)"
      ]
    },
    {
      "cell_type": "code",
      "execution_count": 440,
      "metadata": {},
      "outputs": [
        {
          "data": {
            "text/plain": [
              "(1, tensor(1))"
            ]
          },
          "execution_count": 440,
          "metadata": {},
          "output_type": "execute_result"
        }
      ],
      "source": [
        "len(ds_train[0][0]), ds_train[0][1]"
      ]
    },
    {
      "cell_type": "code",
      "execution_count": 441,
      "metadata": {},
      "outputs": [
        {
          "data": {
            "image/png": "[encoded data removed]",
            "text/plain": [
              "<Figure size 800x300 with 2 Axes>"
            ]
          },
          "metadata": {},
          "output_type": "display_data"
        }
      ],
      "source": [
        "# plt.style.use('dark_background')\n",
        "fig, ax = plt.subplots(1, 2)\n",
        "fig.set_size_inches(8, 3)\n",
        "n, bins, patches = ax[0].hist([i[1] for i in ds_train], bins=5)\n",
        "for i in range(len(patches)):\n",
        "    patches[i].set_facecolor(plt.cm.Set3(i))\n",
        "ax[0].set_title('Тренировочная выборка')\n",
        "ax[0].set_xlabel('Значение предиктанта')\n",
        "ax[0].set_ylabel('Количество элементов в выборке')\n",
        "ax[0].set_xticks([0, 1, 2])\n",
        "\n",
        "n, bins, patches = ax[1].hist([i[1] for i in ds_test], bins=5)\n",
        "for i in range(len(patches)):\n",
        "    patches[i].set_facecolor(plt.cm.Set3(i))\n",
        "ax[1].set_title('Тестовая выборка')\n",
        "ax[1].set_xlabel('Значение предиктанта')\n",
        "ax[1].set_yticks([0, 1, 2, 3])\n",
        "ax[1].set_xticks([0, 1, 2]);"
      ]
    },
    {
      "cell_type": "code",
      "execution_count": 442,
      "metadata": {},
      "outputs": [],
      "source": [
        "batch_size = 10\n",
        "\n",
        "train_dl = trc.utils.data.DataLoader(ds_train, batch_size, shuffle=True,\n",
        "                                     pin_memory=True, drop_last=True)\n",
        "test_dl = trc.utils.data.DataLoader(ds_test, len(ds_test),\n",
        "                                    pin_memory=True)"
      ]
    },
    {
      "cell_type": "markdown",
      "metadata": {
        "id": "INDHJnevi_IP"
      },
      "source": [
        "# Net"
      ]
    },
    {
      "cell_type": "code",
      "execution_count": 443,
      "metadata": {
        "id": "RBgbuujfi75K"
      },
      "outputs": [],
      "source": [
        "class IceNet(trc.nn.Module):\n",
        "  def __init__(self):\n",
        "    super().__init__()\n",
        "\n",
        "    p = 8\n",
        "    self.fc_1 = trc.nn.Linear(1, 64//p)\n",
        "    self.fc_2 = trc.nn.Linear(64//p, 128//p)\n",
        "    self.fc_3 = trc.nn.Linear(128//p, 256//p)\n",
        "    self.fc_4 = trc.nn.Linear(256//p, 128//p)\n",
        "    self.fc_5 = trc.nn.Linear(128//p, 3)\n",
        "\n",
        "    self.act = trc.nn.ReLU()\n",
        "\n",
        "  def forward(self, x):\n",
        "    # print(x.shape)\n",
        "    x = self.act(self.fc_1(x))\n",
        "    x = self.act(self.fc_2(x))\n",
        "    x = self.act(self.fc_3(x))\n",
        "    x = self.act(self.fc_4(x))\n",
        "    return self.fc_5(x).squeeze()"
      ]
    },
    {
      "cell_type": "code",
      "execution_count": 444,
      "metadata": {
        "colab": {
          "base_uri": "https://localhost:8080/",
          "height": 36
        },
        "id": "GzDUWhHAj52u",
        "outputId": "70092343-5630-4a24-e0c6-fa47cda99916"
      },
      "outputs": [
        {
          "data": {
            "text/plain": [
              "'cpu'"
            ]
          },
          "execution_count": 444,
          "metadata": {},
          "output_type": "execute_result"
        }
      ],
      "source": [
        "np.random.seed(1)\n",
        "trc.manual_seed(1)\n",
        "trc.cuda.manual_seed(1)\n",
        "trc.backends.cudnn.determenistic = True\n",
        "device = ('cuda:0' if trc.cuda.is_available() else 'cpu')\n",
        "\n",
        "net = IceNet().to(device)\n",
        "\n",
        "loss = trc.nn.CrossEntropyLoss()\n",
        "# loss = trc.nn.CrossEntropyLoss(weight=trc.tensor([3.0, 1.0, 2.0]))\n",
        "\n",
        "if len(ds_train[0][0]) <= 2:\n",
        "    optimizer = trc.optim.Adam(net.parameters(), lr=0.01, amsgrad=True, weight_decay=0)\n",
        "else:\n",
        "    optimizer = trc.optim.Adam(net.parameters(), lr=0.009, amsgrad=True, weight_decay=0)\n",
        "# optimizer = trc.optim.NAdam(net.parameters(), lr=0.009)\n",
        "\n",
        "scheduler = trc.optim.lr_scheduler.StepLR(optimizer, step_size=1, gamma=0.5)\n",
        "\n",
        "device"
      ]
    },
    {
      "cell_type": "markdown",
      "metadata": {
        "id": "sm7Du53hkr84"
      },
      "source": [
        "# Learning"
      ]
    },
    {
      "cell_type": "code",
      "execution_count": 445,
      "metadata": {
        "colab": {
          "base_uri": "https://localhost:8080/"
        },
        "id": "z_VDTi_Lkqof",
        "outputId": "b587a3df-f26d-407b-83a2-d38d344cc33c"
      },
      "outputs": [
        {
          "name": "stderr",
          "output_type": "stream",
          "text": [
            "100%|██████████| 200/200 [00:01<00:00, 135.80it/s]\n"
          ]
        }
      ],
      "source": [
        "train_loss_hist, train_acc_hist = [], []\n",
        "test_loss_hist, test_acc_hist = [], []\n",
        "max_acc, min_loss = 0, 1000\n",
        "lr_red, k = [0.8, 0.95], 0\n",
        "\n",
        "for epoch in tqdm(range(200)):\n",
        "  net.train()\n",
        "  batch_n, loss_sum, acc_sum = 0, 0, 0\n",
        "\n",
        "  for input, targets in train_dl:\n",
        "    input = input.to(device)\n",
        "    targets = targets.to(device)\n",
        "\n",
        "    raw_out = net.forward(input)\n",
        "    # print(raw_out.shape, targets.shape)\n",
        "    # raw_out = raw_out.unsqueeze(0)\n",
        "    loss_val = loss(raw_out, targets)\n",
        "    loss_val.backward()\n",
        "\n",
        "    loss_sum += loss_val.data.cpu()\n",
        "    acc_sum += (raw_out.argmax(dim=1)==targets).float().mean()\n",
        "    batch_n += 1\n",
        "\n",
        "    optimizer.step()\n",
        "    optimizer.zero_grad()\n",
        "\n",
        "  train_loss_hist.append(loss_sum/batch_n)\n",
        "  train_acc_hist.append(acc_sum/batch_n)\n",
        "  net.eval()\n",
        "\n",
        "  for input, targets in test_dl:\n",
        "    input = input.to(device)\n",
        "    targets = targets.to(device)\n",
        "\n",
        "    with trc.set_grad_enabled(False):\n",
        "      raw_out = net.forward(input)\n",
        "      loss_val = loss(raw_out, targets).data.cpu()\n",
        "\n",
        "    test_loss_hist.append(loss_val)\n",
        "    test_acc_hist.append((raw_out.argmax(dim=1)==targets).float().mean())\n",
        "\n",
        "    # if test_acc_hist[-1] >= max_acc and (len(test_loss_hist)==1 or loss_val <= test_loss_hist[-2]):\n",
        "    # if test_acc_hist[-1] >= max_acc:\n",
        "    # if test_acc_hist[-1] > max_acc:\n",
        "    if test_acc_hist[-1] >= max_acc:\n",
        "      trc.save(net, 'ice_model')\n",
        "      max_acc = test_acc_hist[-1]\n",
        "      '''if k < len(lr_red) and max_acc >= lr_red[k]:\n",
        "        scheduler.step()\n",
        "        k+=1'''\n",
        "\n",
        "    if loss_val < min_loss:\n",
        "      min_loss = loss_val\n",
        "      # print(min_loss.item())\n",
        "      '''if min_loss.item() <= 0.5679 and max_acc >= lr_red[k]:\n",
        "        print('---lr_reduction---')\n",
        "        scheduler.step()\n",
        "        k+=1'''"
      ]
    },
    {
      "cell_type": "markdown",
      "metadata": {
        "id": "aRTZUcHuv6fg"
      },
      "source": [
        "# Statistics"
      ]
    },
    {
      "cell_type": "code",
      "execution_count": 446,
      "metadata": {
        "colab": {
          "base_uri": "https://localhost:8080/",
          "height": 314
        },
        "id": "3fScLNMaornP",
        "outputId": "49d32212-d2f2-476b-b964-6c6f9d9f6f4d"
      },
      "outputs": [
        {
          "data": {
            "image/png": "[encoded data removed]",
            "text/plain": [
              "<Figure size 1000x300 with 1 Axes>"
            ]
          },
          "metadata": {},
          "output_type": "display_data"
        }
      ],
      "source": [
        "# plt.style.use('dark_background')\n",
        "plt.rcParams['figure.figsize'] = (10, 3)\n",
        "plt.plot(train_loss_hist, label='Тренировочные данные')\n",
        "plt.plot(test_loss_hist, label='Тестовые данные')\n",
        "# plt.title('Loss')\n",
        "plt.xlabel('Эпохи обучения')\n",
        "plt.ylabel('Значение функции потерь')\n",
        "plt.legend(loc='lower right');"
      ]
    },
    {
      "cell_type": "markdown",
      "metadata": {},
      "source": [
        "Best delay_0: 0.2158 (lr - 0.009, batch - 2)<br>\n",
        "Best delay_month: 0.6276 (lr - 0.009, batch - 3)"
      ]
    },
    {
      "cell_type": "code",
      "execution_count": 447,
      "metadata": {},
      "outputs": [
        {
          "name": "stdout",
          "output_type": "stream",
          "text": [
            "tensor(1.0739) tensor(1.0739)\n"
          ]
        }
      ],
      "source": [
        "print(min(test_loss_hist), min_loss)"
      ]
    },
    {
      "cell_type": "code",
      "execution_count": 448,
      "metadata": {},
      "outputs": [
        {
          "data": {
            "text/plain": [
              "tensor(1.0739)"
            ]
          },
          "execution_count": 448,
          "metadata": {},
          "output_type": "execute_result"
        }
      ],
      "source": [
        "min_loss"
      ]
    },
    {
      "cell_type": "code",
      "execution_count": 449,
      "metadata": {
        "colab": {
          "base_uri": "https://localhost:8080/",
          "height": 314
        },
        "id": "w0U15hxbvIY4",
        "outputId": "a40a5a13-ecc0-4fc4-b0a8-c9fced0d7a5b"
      },
      "outputs": [
        {
          "data": {
            "image/png": "[encoded data removed]",
            "text/plain": [
              "<Figure size 1000x300 with 1 Axes>"
            ]
          },
          "metadata": {},
          "output_type": "display_data"
        }
      ],
      "source": [
        "plt.plot(train_acc_hist, label='Тренировочные данные')\n",
        "plt.plot(test_acc_hist, label='Тестовые данные')\n",
        "# plt.title('Acc')\n",
        "plt.xlabel('Эпохи обучения')\n",
        "plt.ylabel('Обеспеченность прогноза')\n",
        "plt.legend();"
      ]
    },
    {
      "cell_type": "markdown",
      "metadata": {
        "id": "kMjYYpGHY9De"
      },
      "source": [
        "# Testing"
      ]
    },
    {
      "cell_type": "code",
      "execution_count": 450,
      "metadata": {},
      "outputs": [
        {
          "name": "stdout",
          "output_type": "stream",
          "text": [
            "              precision    recall  f1-score   support\n",
            "\n",
            "           0       0.67      0.18      0.29        11\n",
            "           1       0.50      0.94      0.65        17\n",
            "           2       0.00      0.00      0.00         7\n",
            "\n",
            "    accuracy                           0.51        35\n",
            "   macro avg       0.39      0.37      0.31        35\n",
            "weighted avg       0.45      0.51      0.41        35\n",
            "\n"
          ]
        },
        {
          "name": "stderr",
          "output_type": "stream",
          "text": [
            "c:\\Users\\Viktor\\AppData\\Local\\Programs\\Python\\Python39\\lib\\site-packages\\sklearn\\metrics\\_classification.py:1469: UndefinedMetricWarning: Precision and F-score are ill-defined and being set to 0.0 in labels with no predicted samples. Use `zero_division` parameter to control this behavior.\n",
            "  _warn_prf(average, modifier, msg_start, len(result))\n",
            "c:\\Users\\Viktor\\AppData\\Local\\Programs\\Python\\Python39\\lib\\site-packages\\sklearn\\metrics\\_classification.py:1469: UndefinedMetricWarning: Precision and F-score are ill-defined and being set to 0.0 in labels with no predicted samples. Use `zero_division` parameter to control this behavior.\n",
            "  _warn_prf(average, modifier, msg_start, len(result))\n",
            "c:\\Users\\Viktor\\AppData\\Local\\Programs\\Python\\Python39\\lib\\site-packages\\sklearn\\metrics\\_classification.py:1469: UndefinedMetricWarning: Precision and F-score are ill-defined and being set to 0.0 in labels with no predicted samples. Use `zero_division` parameter to control this behavior.\n",
            "  _warn_prf(average, modifier, msg_start, len(result))\n"
          ]
        }
      ],
      "source": [
        "net = trc.load('ice_model')\n",
        "train_tst_dl = trc.utils.data.DataLoader(ds_train, len(ds_train), shuffle=False, pin_memory=True)\n",
        "\n",
        "preds, targets = [], []\n",
        "for x, y in train_tst_dl:\n",
        "    x = x.to(device)\n",
        "    y = y.to(device)\n",
        "\n",
        "    raw_out = net.forward(x)\n",
        "    preds.append(raw_out.argmax(dim=1))\n",
        "    targets.append(y)\n",
        "\n",
        "print(classification_report(trc.cat(targets), trc.cat(preds)))"
      ]
    },
    {
      "cell_type": "code",
      "execution_count": 451,
      "metadata": {},
      "outputs": [
        {
          "name": "stdout",
          "output_type": "stream",
          "text": [
            "tensor([1, 2, 1, 1, 1, 0, 1, 1, 2, 0, 0, 0, 1, 0, 0, 0, 2, 1, 0, 1, 1, 1, 1, 2,\n",
            "        1, 1, 1, 0, 0, 2, 2, 2, 1, 0, 1])\n",
            "tensor([1, 1, 1, 1, 1, 0, 1, 1, 1, 1, 1, 1, 1, 1, 1, 1, 1, 1, 1, 1, 1, 1, 1, 1,\n",
            "        1, 1, 0, 0, 1, 1, 1, 1, 1, 1, 1])\n"
          ]
        }
      ],
      "source": [
        "print(trc.cat(targets))\n",
        "print(trc.cat(preds))"
      ]
    },
    {
      "cell_type": "code",
      "execution_count": 452,
      "metadata": {
        "id": "CeQRkRPeb2kF"
      },
      "outputs": [
        {
          "name": "stdout",
          "output_type": "stream",
          "text": [
            "              precision    recall  f1-score   support\n",
            "\n",
            "           0       0.00      0.00      0.00         1\n",
            "           1       0.50      1.00      0.67         5\n",
            "           2       0.00      0.00      0.00         4\n",
            "\n",
            "    accuracy                           0.50        10\n",
            "   macro avg       0.17      0.33      0.22        10\n",
            "weighted avg       0.25      0.50      0.33        10\n",
            "\n"
          ]
        },
        {
          "name": "stderr",
          "output_type": "stream",
          "text": [
            "c:\\Users\\Viktor\\AppData\\Local\\Programs\\Python\\Python39\\lib\\site-packages\\sklearn\\metrics\\_classification.py:1469: UndefinedMetricWarning: Precision and F-score are ill-defined and being set to 0.0 in labels with no predicted samples. Use `zero_division` parameter to control this behavior.\n",
            "  _warn_prf(average, modifier, msg_start, len(result))\n",
            "c:\\Users\\Viktor\\AppData\\Local\\Programs\\Python\\Python39\\lib\\site-packages\\sklearn\\metrics\\_classification.py:1469: UndefinedMetricWarning: Precision and F-score are ill-defined and being set to 0.0 in labels with no predicted samples. Use `zero_division` parameter to control this behavior.\n",
            "  _warn_prf(average, modifier, msg_start, len(result))\n",
            "c:\\Users\\Viktor\\AppData\\Local\\Programs\\Python\\Python39\\lib\\site-packages\\sklearn\\metrics\\_classification.py:1469: UndefinedMetricWarning: Precision and F-score are ill-defined and being set to 0.0 in labels with no predicted samples. Use `zero_division` parameter to control this behavior.\n",
            "  _warn_prf(average, modifier, msg_start, len(result))\n"
          ]
        }
      ],
      "source": [
        "preds, targets = [], []\n",
        "for x, y in test_dl:\n",
        "    x = x.to(device)\n",
        "    y = y.to(device)\n",
        "\n",
        "    raw_out = net.forward(x)\n",
        "    preds.append(raw_out.argmax(dim=1))\n",
        "    targets.append(y)\n",
        "\n",
        "print(classification_report(trc.cat(targets), trc.cat(preds)))"
      ]
    },
    {
      "cell_type": "code",
      "execution_count": 432,
      "metadata": {},
      "outputs": [
        {
          "name": "stdout",
          "output_type": "stream",
          "text": [
            "tensor([1, 1, 2, 1, 1, 0, 2, 2, 2, 1])\n",
            "tensor([1, 2, 1, 1, 1, 0, 1, 2, 1, 1])\n"
          ]
        }
      ],
      "source": [
        "print(trc.cat(targets))\n",
        "print(trc.cat(preds))"
      ]
    },
    {
      "cell_type": "code",
      "execution_count": 409,
      "metadata": {},
      "outputs": [
        {
          "data": {
            "text/plain": [
              "8691"
            ]
          },
          "execution_count": 409,
          "metadata": {},
          "output_type": "execute_result"
        }
      ],
      "source": [
        "pytorch_total_params = sum(p.numel() for p in net.parameters() if p.requires_grad)\n",
        "pytorch_total_params"
      ]
    },
    {
      "cell_type": "markdown",
      "metadata": {},
      "source": [
        "### Прогноз 2024"
      ]
    },
    {
      "cell_type": "code",
      "execution_count": null,
      "metadata": {},
      "outputs": [],
      "source": [
        "# DEC1-JAN2\n",
        "from datetime import date\n",
        "\n",
        "d0 = date(2023, 8, 1)\n",
        "\n",
        "# DEFINE DATE\n",
        "# Ani\n",
        "d_frst, d_stbl = date(2023, 12, 30), date(2024, 1, 9)\n",
        "# LunaPil\n",
        "# d_frst, d_stbl = date(2023, 11, 24), date(2023, 11, 24)\n",
        "\n",
        "form_frst, form_stbl = (d_frst-d0).days, (d_stbl-d0).days\n",
        "print(form_frst, form_stbl)\n",
        "x = trc.Tensor([form_frst, form_stbl,\n",
        "    0.0011175164, 2.0403712, -5.81546, -1.12584294, 2.2276535, -4.385736,\n",
        "    0.019494873, 0.88759154, -5.356842, -1.67678186, 0.78476363, -2.8122842,\n",
        "    0.05983783, -0.25621745, -7.976349, -2.35051126, -1.2692935, -3.2868123])\n",
        "'''x = trc.Tensor([form_frst, form_stbl,\n",
        "    0.0011175164, 2.0403712, -5.81546, 2.2276535, -4.385736,\n",
        "    0.019494873, 0.88759154, -5.356842, 0.78476363, -2.8122842,\n",
        "    0.05983783, -0.25621745, -7.976349, -1.2692935, -3.2868123])'''\n",
        "x = x.to(device)\n",
        "net.forward(x) #.argmax()"
      ]
    },
    {
      "cell_type": "code",
      "execution_count": 884,
      "metadata": {},
      "outputs": [
        {
          "name": "stdout",
          "output_type": "stream",
          "text": [
            "103 115\n"
          ]
        },
        {
          "data": {
            "text/plain": [
              "tensor([-1110.8264,  -216.2571,   726.5462], grad_fn=<SqueezeBackward0>)"
            ]
          },
          "execution_count": 884,
          "metadata": {},
          "output_type": "execute_result"
        }
      ],
      "source": [
        "# JAN\n",
        "from datetime import date\n",
        "\n",
        "d0 = date(2023, 8, 1)\n",
        "\n",
        "# DEFINE DATE\n",
        "# ANIVA\n",
        "# d_frst, d_stbl = date(2023, 12, 30), date(2024, 1, 9)\n",
        "# LUNAPIL\n",
        "d_frst, d_stbl = date(2023, 11, 12), date(2023, 11, 24)\n",
        "\n",
        "form_frst, form_stbl = (d_frst-d0).days, (d_stbl-d0).days\n",
        "print(form_frst, form_stbl)\n",
        "# ANIVA\n",
        "'''x = trc.Tensor([form_frst, form_stbl,\n",
        "    0.019494873, 0.88759154, -5.356842, -1.67678186, 0.78476363, -2.8122842,\n",
        "    0.05983783, -0.25621745, -7.976349, -2.35051126, -1.2692935, -3.2868123,\n",
        "    0.23460168, -1.4132556, -5.436676, -3.14909332, -2.5164437, -6.9422836])'''\n",
        "'''x = trc.Tensor([form_frst, form_stbl,\n",
        "    0.019494873, 0.88759154, -5.356842, 0.78476363, -2.8122842,\n",
        "    0.05983783, -0.25621745, -7.976349, -1.2692935, -3.2868123,\n",
        "    0.23460168, -1.4132556, -5.436676, -2.5164437, -6.9422836])'''\n",
        "\n",
        "\n",
        "# LUNAPIL\n",
        "x = trc.Tensor([form_frst, form_stbl,\n",
        "    0.93202, -1.755427, -19.863541, -4.3087288, 3.020164, -1.384673,\n",
        "    0.966036, -1.767221, -22.226074, -6.33822968, 3.210279, -2.439723,\n",
        "    0.978068, -1.77064, -16.017212, -8.57531434, 1.362164, -4.534626])\n",
        "x = x.to(device)\n",
        "net.forward(x) #.argmax()"
      ]
    },
    {
      "cell_type": "code",
      "execution_count": 26,
      "metadata": {},
      "outputs": [
        {
          "name": "stdout",
          "output_type": "stream",
          "text": [
            "103 115\n"
          ]
        },
        {
          "data": {
            "text/plain": [
              "tensor([-1666.2806,   169.9275,  1199.6879], grad_fn=<SqueezeBackward0>)"
            ]
          },
          "execution_count": 26,
          "metadata": {},
          "output_type": "execute_result"
        }
      ],
      "source": [
        "# FEB\n",
        "from datetime import date\n",
        "\n",
        "d0 = date(2023, 8, 1)\n",
        "\n",
        "# DEFINE DATE\n",
        "# ANIVA\n",
        "# d_frst, d_stbl = date(2023, 12, 30), date(2024, 1, 9)\n",
        "# LUNAPIL\n",
        "d_frst, d_stbl = date(2023, 11, 12), date(2023, 11, 24)\n",
        "\n",
        "form_frst, form_stbl = (d_frst-d0).days, (d_stbl-d0).days\n",
        "print(form_frst, form_stbl)\n",
        "\n",
        "# ANIVA\n",
        "''''''\n",
        "\n",
        "# LUNAPIL\n",
        "x = trc.Tensor([form_frst, form_stbl,\n",
        "    0.97686, -1.773324, -19.025162, -10.28321894, 4.27923, -3.426963,\n",
        "    0.984553, -1.773935, -18.848236, -12.19541011, 1.580032, -1.511605,\n",
        "    0.977293, -1.775542, -19.901337, -14.10725093, 3.267457, -2.086021])\n",
        "x = x.to(device)\n",
        "net.forward(x) #.argmax()"
      ]
    },
    {
      "cell_type": "code",
      "execution_count": 23,
      "metadata": {},
      "outputs": [
        {
          "name": "stdout",
          "output_type": "stream",
          "text": [
            "103 115\n"
          ]
        },
        {
          "data": {
            "text/plain": [
              "tensor([-864.3125,    2.0919,  606.0002], grad_fn=<SqueezeBackward0>)"
            ]
          },
          "execution_count": 23,
          "metadata": {},
          "output_type": "execute_result"
        }
      ],
      "source": [
        "# MAR\n",
        "from datetime import date\n",
        "\n",
        "d0 = date(2023, 8, 1)\n",
        "\n",
        "# DEFINE DATE\n",
        "# ANIVA\n",
        "# d_frst, d_stbl = date(2023, 12, 30), date(2024, 1, 9)\n",
        "# LUNAPIL\n",
        "d_frst, d_stbl = date(2023, 11, 12), date(2023, 11, 24)\n",
        "\n",
        "form_frst, form_stbl = (d_frst-d0).days, (d_stbl-d0).days\n",
        "print(form_frst, form_stbl)\n",
        "\n",
        "# ANIVA\n",
        "''''''\n",
        "\n",
        "# LUNAPIL\n",
        "x = trc.Tensor([form_frst, form_stbl,\n",
        "    0.962193, -1.775925, -15.686371, -15.83781373, 2.832284, -0.871869,\n",
        "    0.945765, -1.774578, -10.871216, -17.3771985, 3.254466, -3.624539,\n",
        "    0.828608, -1.759492, -4.373871, -18.40402711, -1.111412, 1.592968])\n",
        "x = x.to(device)\n",
        "net.forward(x) #.argmax()"
      ]
    },
    {
      "cell_type": "code",
      "execution_count": 71,
      "metadata": {},
      "outputs": [
        {
          "name": "stdout",
          "output_type": "stream",
          "text": [
            "103 115\n"
          ]
        },
        {
          "data": {
            "text/plain": [
              "tensor([-694.2429,   67.3273,  305.6068], grad_fn=<SqueezeBackward0>)"
            ]
          },
          "execution_count": 71,
          "metadata": {},
          "output_type": "execute_result"
        }
      ],
      "source": [
        "# MAR2_APR1\n",
        "from datetime import date\n",
        "\n",
        "d0 = date(2023, 8, 1)\n",
        "\n",
        "# DEFINE DATE\n",
        "# ANIVA\n",
        "# d_frst, d_stbl = date(2023, 12, 30), date(2024, 1, 9)\n",
        "# LUNAPIL\n",
        "d_frst, d_stbl = date(2023, 11, 12), date(2023, 11, 24)\n",
        "\n",
        "form_frst, form_stbl = (d_frst-d0).days, (d_stbl-d0).days\n",
        "print(form_frst, form_stbl)\n",
        "\n",
        "# ANIVA\n",
        "''''''\n",
        "\n",
        "# LUNAPIL\n",
        "x = trc.Tensor([form_frst, form_stbl,\n",
        "    0.942751, -1.774578, -10.871216, -17.3771985, 3.254466, -3.624539,\n",
        "    0.815467, -1.735291, -4.373871, -18.40402711, -1.111412, 1.592968,\n",
        "    0.746119, -1.708638, -2.831635, -18.82005128, 2.288941, -0.544465])\n",
        "x = x.to(device)\n",
        "net.forward(x) #.argmax()"
      ]
    },
    {
      "cell_type": "code",
      "execution_count": 75,
      "metadata": {},
      "outputs": [
        {
          "name": "stdout",
          "output_type": "stream",
          "text": [
            "103 115\n"
          ]
        },
        {
          "data": {
            "text/plain": [
              "tensor([-317.6725,   92.2886,  214.1907], grad_fn=<SqueezeBackward0>)"
            ]
          },
          "execution_count": 75,
          "metadata": {},
          "output_type": "execute_result"
        }
      ],
      "source": [
        "# MAR1_APR2\n",
        "from datetime import date\n",
        "\n",
        "d0 = date(2023, 8, 1)\n",
        "\n",
        "# DEFINE DATE\n",
        "# ANIVA\n",
        "# d_frst, d_stbl = date(2023, 12, 30), date(2024, 1, 9)\n",
        "# LUNAPIL\n",
        "d_frst, d_stbl = date(2023, 11, 12), date(2023, 11, 24)\n",
        "\n",
        "form_frst, form_stbl = (d_frst-d0).days, (d_stbl-d0).days\n",
        "print(form_frst, form_stbl)\n",
        "\n",
        "# ANIVA\n",
        "''''''\n",
        "\n",
        "# LUNAPIL\n",
        "x = trc.Tensor([form_frst, form_stbl,\n",
        "    0.815467, -1.759492, -4.373871, -18.40402711, -1.111412, 1.592968,\n",
        "    0.746119, -1.705041, -2.831635, -18.82005128, 2.288941, -0.544465,\n",
        "    0.618521, -1.596134, 0.196716, -19.09374268, -1.33937, 0.557073])\n",
        "x = x.to(device)\n",
        "net.forward(x)#.argmax()"
      ]
    },
    {
      "cell_type": "markdown",
      "metadata": {},
      "source": [
        "# XGBoost"
      ]
    },
    {
      "cell_type": "code",
      "execution_count": 23,
      "metadata": {},
      "outputs": [],
      "source": [
        "from xgboost import XGBClassifier"
      ]
    },
    {
      "cell_type": "code",
      "execution_count": 24,
      "metadata": {},
      "outputs": [],
      "source": [
        "# create model instance\n",
        "bst = XGBClassifier(n_estimators=20, max_depth=4, learning_rate=0.5, objective='cls:ce')\n",
        "# fit model\n",
        "bst.fit(ds_train.X, ds_train.y)\n",
        "# make predictions\n",
        "preds_train = bst.predict(ds_train.X)\n",
        "preds_test = bst.predict(ds_test.X)"
      ]
    },
    {
      "cell_type": "code",
      "execution_count": 25,
      "metadata": {},
      "outputs": [
        {
          "name": "stdout",
          "output_type": "stream",
          "text": [
            "              precision    recall  f1-score   support\n",
            "\n",
            "           0       1.00      1.00      1.00         5\n",
            "           1       1.00      1.00      1.00        18\n",
            "           2       1.00      1.00      1.00         9\n",
            "\n",
            "    accuracy                           1.00        32\n",
            "   macro avg       1.00      1.00      1.00        32\n",
            "weighted avg       1.00      1.00      1.00        32\n",
            "\n"
          ]
        }
      ],
      "source": [
        "print(classification_report(ds_train.y, preds_train))"
      ]
    },
    {
      "cell_type": "code",
      "execution_count": 26,
      "metadata": {},
      "outputs": [
        {
          "name": "stdout",
          "output_type": "stream",
          "text": [
            "              precision    recall  f1-score   support\n",
            "\n",
            "           0       1.00      0.50      0.67         2\n",
            "           1       0.57      0.80      0.67         5\n",
            "           2       0.00      0.00      0.00         2\n",
            "\n",
            "    accuracy                           0.56         9\n",
            "   macro avg       0.52      0.43      0.44         9\n",
            "weighted avg       0.54      0.56      0.52         9\n",
            "\n"
          ]
        }
      ],
      "source": [
        "print(classification_report(ds_test.y, preds_test))"
      ]
    },
    {
      "cell_type": "markdown",
      "metadata": {},
      "source": [
        "# Sklearn"
      ]
    },
    {
      "cell_type": "code",
      "execution_count": 27,
      "metadata": {},
      "outputs": [],
      "source": [
        "from sklearn.ensemble import RandomForestClassifier\n",
        "import joblib"
      ]
    },
    {
      "cell_type": "code",
      "execution_count": 28,
      "metadata": {},
      "outputs": [],
      "source": [
        "# create model instance\n",
        "rfs = RandomForestClassifier(n_estimators=100, max_depth=8, criterion='entropy')\n",
        "# fit model\n",
        "rfs.fit(ds_train.X, ds_train.y)\n",
        "# make predictions\n",
        "preds_train = rfs.predict(ds_train.X)\n",
        "preds_test = rfs.predict(ds_test.X)"
      ]
    },
    {
      "cell_type": "code",
      "execution_count": 29,
      "metadata": {},
      "outputs": [
        {
          "name": "stdout",
          "output_type": "stream",
          "text": [
            "              precision    recall  f1-score   support\n",
            "\n",
            "           0       1.00      1.00      1.00         5\n",
            "           1       1.00      1.00      1.00        18\n",
            "           2       1.00      1.00      1.00         9\n",
            "\n",
            "    accuracy                           1.00        32\n",
            "   macro avg       1.00      1.00      1.00        32\n",
            "weighted avg       1.00      1.00      1.00        32\n",
            "\n"
          ]
        }
      ],
      "source": [
        "print(classification_report(ds_train.y, preds_train))"
      ]
    },
    {
      "cell_type": "code",
      "execution_count": 30,
      "metadata": {},
      "outputs": [
        {
          "name": "stdout",
          "output_type": "stream",
          "text": [
            "              precision    recall  f1-score   support\n",
            "\n",
            "           0       0.00      0.00      0.00         2\n",
            "           1       0.50      0.80      0.62         5\n",
            "           2       0.00      0.00      0.00         2\n",
            "\n",
            "    accuracy                           0.44         9\n",
            "   macro avg       0.17      0.27      0.21         9\n",
            "weighted avg       0.28      0.44      0.34         9\n",
            "\n"
          ]
        },
        {
          "name": "stderr",
          "output_type": "stream",
          "text": [
            "c:\\Users\\Viktor\\AppData\\Local\\Programs\\Python\\Python39\\lib\\site-packages\\sklearn\\metrics\\_classification.py:1469: UndefinedMetricWarning: Precision and F-score are ill-defined and being set to 0.0 in labels with no predicted samples. Use `zero_division` parameter to control this behavior.\n",
            "  _warn_prf(average, modifier, msg_start, len(result))\n",
            "c:\\Users\\Viktor\\AppData\\Local\\Programs\\Python\\Python39\\lib\\site-packages\\sklearn\\metrics\\_classification.py:1469: UndefinedMetricWarning: Precision and F-score are ill-defined and being set to 0.0 in labels with no predicted samples. Use `zero_division` parameter to control this behavior.\n",
            "  _warn_prf(average, modifier, msg_start, len(result))\n",
            "c:\\Users\\Viktor\\AppData\\Local\\Programs\\Python\\Python39\\lib\\site-packages\\sklearn\\metrics\\_classification.py:1469: UndefinedMetricWarning: Precision and F-score are ill-defined and being set to 0.0 in labels with no predicted samples. Use `zero_division` parameter to control this behavior.\n",
            "  _warn_prf(average, modifier, msg_start, len(result))\n"
          ]
        }
      ],
      "source": [
        "print(classification_report(ds_test.y, preds_test))"
      ]
    },
    {
      "cell_type": "markdown",
      "metadata": {},
      "source": [
        "# Climat & Inertia"
      ]
    },
    {
      "cell_type": "markdown",
      "metadata": {},
      "source": [
        "### Test"
      ]
    },
    {
      "cell_type": "code",
      "execution_count": 54,
      "metadata": {},
      "outputs": [
        {
          "name": "stdout",
          "output_type": "stream",
          "text": [
            "              precision    recall  f1-score   support\n",
            "\n",
            "           0       0.00      0.00      0.00         3\n",
            "           1       0.33      1.00      0.50         3\n",
            "           2       0.00      0.00      0.00         3\n",
            "\n",
            "    accuracy                           0.33         9\n",
            "   macro avg       0.11      0.33      0.17         9\n",
            "weighted avg       0.11      0.33      0.17         9\n",
            "\n"
          ]
        },
        {
          "name": "stderr",
          "output_type": "stream",
          "text": [
            "c:\\Users\\Viktor\\AppData\\Local\\Programs\\Python\\Python39\\lib\\site-packages\\sklearn\\metrics\\_classification.py:1469: UndefinedMetricWarning: Precision and F-score are ill-defined and being set to 0.0 in labels with no predicted samples. Use `zero_division` parameter to control this behavior.\n",
            "  _warn_prf(average, modifier, msg_start, len(result))\n",
            "c:\\Users\\Viktor\\AppData\\Local\\Programs\\Python\\Python39\\lib\\site-packages\\sklearn\\metrics\\_classification.py:1469: UndefinedMetricWarning: Precision and F-score are ill-defined and being set to 0.0 in labels with no predicted samples. Use `zero_division` parameter to control this behavior.\n",
            "  _warn_prf(average, modifier, msg_start, len(result))\n",
            "c:\\Users\\Viktor\\AppData\\Local\\Programs\\Python\\Python39\\lib\\site-packages\\sklearn\\metrics\\_classification.py:1469: UndefinedMetricWarning: Precision and F-score are ill-defined and being set to 0.0 in labels with no predicted samples. Use `zero_division` parameter to control this behavior.\n",
            "  _warn_prf(average, modifier, msg_start, len(result))\n"
          ]
        }
      ],
      "source": [
        "print(classification_report(ds_test.y, np.ones(len(ds_test.y), dtype=int)))"
      ]
    },
    {
      "cell_type": "code",
      "execution_count": 55,
      "metadata": {},
      "outputs": [
        {
          "name": "stdout",
          "output_type": "stream",
          "text": [
            "              precision    recall  f1-score   support\n",
            "\n",
            "           0       0.00      0.00      0.00         3\n",
            "           1       0.25      0.33      0.29         3\n",
            "           2       0.00      0.00      0.00         3\n",
            "\n",
            "    accuracy                           0.11         9\n",
            "   macro avg       0.08      0.11      0.10         9\n",
            "weighted avg       0.08      0.11      0.10         9\n",
            "\n"
          ]
        }
      ],
      "source": [
        "print(classification_report(ds_test.y, dt_test.inert))"
      ]
    },
    {
      "cell_type": "markdown",
      "metadata": {},
      "source": [
        "### Train"
      ]
    },
    {
      "cell_type": "code",
      "execution_count": 56,
      "metadata": {},
      "outputs": [
        {
          "name": "stdout",
          "output_type": "stream",
          "text": [
            "              precision    recall  f1-score   support\n",
            "\n",
            "           0       0.00      0.00      0.00         5\n",
            "           1       0.62      1.00      0.77        20\n",
            "           2       0.00      0.00      0.00         7\n",
            "\n",
            "    accuracy                           0.62        32\n",
            "   macro avg       0.21      0.33      0.26        32\n",
            "weighted avg       0.39      0.62      0.48        32\n",
            "\n"
          ]
        },
        {
          "name": "stderr",
          "output_type": "stream",
          "text": [
            "c:\\Users\\Viktor\\AppData\\Local\\Programs\\Python\\Python39\\lib\\site-packages\\sklearn\\metrics\\_classification.py:1469: UndefinedMetricWarning: Precision and F-score are ill-defined and being set to 0.0 in labels with no predicted samples. Use `zero_division` parameter to control this behavior.\n",
            "  _warn_prf(average, modifier, msg_start, len(result))\n",
            "c:\\Users\\Viktor\\AppData\\Local\\Programs\\Python\\Python39\\lib\\site-packages\\sklearn\\metrics\\_classification.py:1469: UndefinedMetricWarning: Precision and F-score are ill-defined and being set to 0.0 in labels with no predicted samples. Use `zero_division` parameter to control this behavior.\n",
            "  _warn_prf(average, modifier, msg_start, len(result))\n",
            "c:\\Users\\Viktor\\AppData\\Local\\Programs\\Python\\Python39\\lib\\site-packages\\sklearn\\metrics\\_classification.py:1469: UndefinedMetricWarning: Precision and F-score are ill-defined and being set to 0.0 in labels with no predicted samples. Use `zero_division` parameter to control this behavior.\n",
            "  _warn_prf(average, modifier, msg_start, len(result))\n"
          ]
        }
      ],
      "source": [
        "print(classification_report(ds_train.y, np.ones(len(ds_train.y), dtype=int)))"
      ]
    },
    {
      "cell_type": "code",
      "execution_count": 57,
      "metadata": {},
      "outputs": [
        {
          "name": "stdout",
          "output_type": "stream",
          "text": [
            "              precision    recall  f1-score   support\n",
            "\n",
            "           0       0.00      0.00      0.00         5\n",
            "           1       0.55      0.55      0.55        20\n",
            "           2       0.14      0.14      0.14         7\n",
            "\n",
            "    accuracy                           0.38        32\n",
            "   macro avg       0.23      0.23      0.23        32\n",
            "weighted avg       0.38      0.38      0.38        32\n",
            "\n"
          ]
        }
      ],
      "source": [
        "print(classification_report(ds_train.y, dt_train.inert))"
      ]
    },
    {
      "cell_type": "markdown",
      "metadata": {},
      "source": [
        "### All"
      ]
    },
    {
      "cell_type": "code",
      "execution_count": 30,
      "metadata": {},
      "outputs": [
        {
          "name": "stdout",
          "output_type": "stream",
          "text": [
            "              precision    recall  f1-score   support\n",
            "\n",
            "         0.0       0.00      0.00      0.00        10\n",
            "         1.0       0.44      1.00      0.61        18\n",
            "         2.0       0.00      0.00      0.00        13\n",
            "\n",
            "    accuracy                           0.44        41\n",
            "   macro avg       0.15      0.33      0.20        41\n",
            "weighted avg       0.19      0.44      0.27        41\n",
            "\n"
          ]
        },
        {
          "name": "stderr",
          "output_type": "stream",
          "text": [
            "c:\\Users\\Viktor\\AppData\\Local\\Programs\\Python\\Python39\\lib\\site-packages\\sklearn\\metrics\\_classification.py:1469: UndefinedMetricWarning: Precision and F-score are ill-defined and being set to 0.0 in labels with no predicted samples. Use `zero_division` parameter to control this behavior.\n",
            "  _warn_prf(average, modifier, msg_start, len(result))\n",
            "c:\\Users\\Viktor\\AppData\\Local\\Programs\\Python\\Python39\\lib\\site-packages\\sklearn\\metrics\\_classification.py:1469: UndefinedMetricWarning: Precision and F-score are ill-defined and being set to 0.0 in labels with no predicted samples. Use `zero_division` parameter to control this behavior.\n",
            "  _warn_prf(average, modifier, msg_start, len(result))\n",
            "c:\\Users\\Viktor\\AppData\\Local\\Programs\\Python\\Python39\\lib\\site-packages\\sklearn\\metrics\\_classification.py:1469: UndefinedMetricWarning: Precision and F-score are ill-defined and being set to 0.0 in labels with no predicted samples. Use `zero_division` parameter to control this behavior.\n",
            "  _warn_prf(average, modifier, msg_start, len(result))\n"
          ]
        }
      ],
      "source": [
        "print(classification_report(data['Clear full'], np.ones(len(data), dtype=int)))\n",
        "# print(classification_report(data['Form first'], np.ones(len(data), dtype=int)))"
      ]
    },
    {
      "cell_type": "code",
      "execution_count": 31,
      "metadata": {},
      "outputs": [
        {
          "name": "stdout",
          "output_type": "stream",
          "text": [
            "              precision    recall  f1-score   support\n",
            "\n",
            "         0.0       0.00      0.00      0.00        10\n",
            "         1.0       0.45      1.00      0.62        18\n",
            "         2.0       0.00      0.00      0.00        13\n",
            "\n",
            "    accuracy                           0.44        41\n",
            "   macro avg       0.15      0.33      0.21        41\n",
            "weighted avg       0.20      0.44      0.27        41\n",
            "\n"
          ]
        },
        {
          "name": "stderr",
          "output_type": "stream",
          "text": [
            "c:\\Users\\Viktor\\AppData\\Local\\Programs\\Python\\Python39\\lib\\site-packages\\sklearn\\metrics\\_classification.py:1469: UndefinedMetricWarning: Precision and F-score are ill-defined and being set to 0.0 in labels with no predicted samples. Use `zero_division` parameter to control this behavior.\n",
            "  _warn_prf(average, modifier, msg_start, len(result))\n",
            "c:\\Users\\Viktor\\AppData\\Local\\Programs\\Python\\Python39\\lib\\site-packages\\sklearn\\metrics\\_classification.py:1469: UndefinedMetricWarning: Precision and F-score are ill-defined and being set to 0.0 in labels with no predicted samples. Use `zero_division` parameter to control this behavior.\n",
            "  _warn_prf(average, modifier, msg_start, len(result))\n",
            "c:\\Users\\Viktor\\AppData\\Local\\Programs\\Python\\Python39\\lib\\site-packages\\sklearn\\metrics\\_classification.py:1469: UndefinedMetricWarning: Precision and F-score are ill-defined and being set to 0.0 in labels with no predicted samples. Use `zero_division` parameter to control this behavior.\n",
            "  _warn_prf(average, modifier, msg_start, len(result))\n"
          ]
        }
      ],
      "source": [
        "print(classification_report(data['Clear full'], data['inert']))\n",
        "# print(classification_report(data['Form first'], data['inert']))"
      ]
    },
    {
      "cell_type": "code",
      "execution_count": null,
      "metadata": {},
      "outputs": [],
      "source": []
    }
  ],
  "metadata": {
    "accelerator": "GPU",
    "colab": {
      "gpuType": "T4",
      "provenance": []
    },
    "kernelspec": {
      "display_name": "Python 3",
      "name": "python3"
    },
    "language_info": {
      "codemirror_mode": {
        "name": "ipython",
        "version": 3
      },
      "file_extension": ".py",
      "mimetype": "text/x-python",
      "name": "python",
      "nbconvert_exporter": "python",
      "pygments_lexer": "ipython3",
      "version": "3.9.13"
    }
  },
  "nbformat": 4,
  "nbformat_minor": 0
}
